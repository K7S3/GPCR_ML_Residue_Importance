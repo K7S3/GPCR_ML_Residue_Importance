{
  "cells": [
    {
      "cell_type": "markdown",
      "metadata": {
        "id": "view-in-github",
        "colab_type": "text"
      },
      "source": [
        "<a href=\"https://colab.research.google.com/github/K7S3/GPCR_ML_Residue_Importance/blob/main/Correlation_Feature_Importance.ipynb\" target=\"_parent\"><img src=\"https://colab.research.google.com/assets/colab-badge.svg\" alt=\"Open In Colab\"/></a>"
      ]
    },
    {
      "cell_type": "markdown",
      "metadata": {
        "id": "2V2pdFTqWvVx"
      },
      "source": [
        "# Feature Importance/Selection Methods\n"
      ]
    },
    {
      "cell_type": "markdown",
      "metadata": {
        "id": "BcqhPIMyW7WY"
      },
      "source": [
        "##Dataset"
      ]
    },
    {
      "cell_type": "code",
      "execution_count": null,
      "metadata": {
        "colab": {
          "base_uri": "https://localhost:8080/"
        },
        "id": "xCp_0Q-7xLa_",
        "outputId": "43b155d4-4b4f-4250-825f-9163a1f5d922"
      },
      "outputs": [
        {
          "output_type": "stream",
          "name": "stdout",
          "text": [
            "     Distance  RotationAngle     Delta1     Delta2      Delta3  ALE-230EELEC  \\\n",
            "0     11.6697     130.454626 -73.811577 -73.771446   77.665695           0.0   \n",
            "1     12.0653     115.112753 -66.088631 -54.379562   68.195198           0.0   \n",
            "2     11.5000     127.757711 -58.722874 -66.290939   58.207180           0.0   \n",
            "3     11.6274     123.053709 -69.483154 -52.952423   66.978256           0.0   \n",
            "4     12.4347     128.960589 -72.763405 -55.607506   73.326202           0.0   \n",
            "..        ...            ...        ...        ...         ...           ...   \n",
            "995    7.3770      73.847496 -56.327755 -67.420235  109.552437           0.0   \n",
            "996    6.2075      68.490096 -67.026802 -72.108139  120.861267           0.0   \n",
            "997    6.1942      57.464342 -62.442738 -68.266754  120.486572           0.0   \n",
            "998    7.5708      76.813875 -61.173191 -86.018555  108.324379           0.0   \n",
            "999    6.1152      60.038253 -77.715523  33.344837  110.807762           0.0   \n",
            "\n",
            "     ALE-230EVDW  ALE-234EELEC  ALE-234EVDW  ALE-257EELEC  ...  ALE-431EELEC  \\\n",
            "0            0.0           0.0          0.0       -0.0034  ...        0.4025   \n",
            "1            0.0           0.0          0.0        0.0000  ...        0.2975   \n",
            "2            0.0           0.0          0.0       -0.0007  ...        0.3093   \n",
            "3            0.0           0.0          0.0        0.0000  ...        0.0783   \n",
            "4            0.0           0.0          0.0       -0.0506  ...        0.2340   \n",
            "..           ...           ...          ...           ...  ...           ...   \n",
            "995          0.0           0.0          0.0        0.0000  ...       -0.1186   \n",
            "996          0.0           0.0          0.0        0.0000  ...       -0.0493   \n",
            "997          0.0           0.0          0.0        0.0000  ...       -0.1070   \n",
            "998          0.0           0.0          0.0        0.0000  ...       -0.0119   \n",
            "999          0.0           0.0          0.0        0.0000  ...       -0.0008   \n",
            "\n",
            "     ALE-431EVDW  ALE-432EELEC  ALE-432EVDW  ALE-433EELEC  ALE-433EVDW  \\\n",
            "0        -0.0238        0.1282      -0.0007        0.2568      -0.0072   \n",
            "1        -0.0224        0.0282      -0.0000        0.1416      -0.0045   \n",
            "2        -0.0179        0.0150      -0.0014       -0.0103      -0.0215   \n",
            "3        -0.0153        0.0487      -0.0000        0.2148      -0.0117   \n",
            "4        -0.0321        0.0451      -0.0014       -0.2031      -0.0144   \n",
            "..           ...           ...          ...           ...          ...   \n",
            "995      -0.0036        0.1722      -0.0052        0.1911      -0.0489   \n",
            "996      -0.0016        0.1709      -0.0076        0.1595      -0.0448   \n",
            "997      -0.0014        0.2679      -0.0115        0.1466      -0.0455   \n",
            "998      -0.0004        0.0666      -0.0028        0.2679      -0.0292   \n",
            "999      -0.0001        0.0282      -0.0021        0.0021      -0.0238   \n",
            "\n",
            "     ALE-434EELEC  ALE-434EVDW  ALE-435EELEC  ALE-435EVDW  \n",
            "0          0.1837      -0.0942        0.0000       0.0000  \n",
            "1          0.5401      -0.1321        0.0000       0.0000  \n",
            "2          0.3455      -0.1697        0.0000       0.0000  \n",
            "3          0.2480      -0.1607        0.0000       0.0000  \n",
            "4          0.4664      -0.2429        0.0000       0.0000  \n",
            "..            ...          ...           ...          ...  \n",
            "995       -0.1419      -0.0864        0.0009      -0.0002  \n",
            "996       -0.0965      -0.0435        0.0004      -0.0000  \n",
            "997        0.0779      -0.0168        0.0000      -0.0000  \n",
            "998        0.2363      -0.0432        0.0000       0.0000  \n",
            "999        0.2642      -0.0111        0.0000       0.0000  \n",
            "\n",
            "[1000 rows x 153 columns] <class 'pandas.core.series.Series'>\n"
          ]
        },
        {
          "output_type": "stream",
          "name": "stderr",
          "text": [
            "<ipython-input-1-d803cfc2fd1d>:8: FutureWarning: The default value of regex will change from True to False in a future version.\n",
            "  cols = cols.astype(str).str.replace(r\"[\\[\\]']\", '')\n"
          ]
        }
      ],
      "source": [
        "import pandas as pd\n",
        "import numpy as np\n",
        "data = pd.read_csv(\"drive/MyDrive/dataset.csv\")\n",
        "# data.drop(columns=['Rotation'], inplace=True)\n",
        "data.drop(columns=['Frame'], inplace=True)\n",
        "\n",
        "cols=data.columns\n",
        "cols = cols.astype(str).str.replace(r\"[\\[\\]']\", '')\n",
        "# print(cols)\n",
        "data.columns=cols\n",
        "# print(data.columns)\n",
        "print(data, type(data[\"ALE-434EELEC\"]))"
      ]
    },
    {
      "cell_type": "code",
      "execution_count": null,
      "metadata": {
        "colab": {
          "base_uri": "https://localhost:8080/"
        },
        "id": "wApdUckgEvox",
        "outputId": "d2d52e91-9304-4c53-d56e-63c77d1fdefb"
      },
      "outputs": [
        {
          "output_type": "stream",
          "name": "stdout",
          "text": [
            "<bound method Series.sort_values of Distance          7.508123\n",
            "RotationAngle    80.154720\n",
            "Delta1          -62.734210\n",
            "Delta2          -33.091208\n",
            "Delta3           78.244404\n",
            "                   ...    \n",
            "ALE-431           0.005640\n",
            "ALE-432           0.065389\n",
            "ALE-433           0.035496\n",
            "ALE-434           0.133707\n",
            "ALE-435           0.001912\n",
            "Length: 79, dtype: float64>\n"
          ]
        }
      ],
      "source": [
        "data[data.columns[1]]\n",
        "len(cols)\n",
        "alpha = 1\n",
        "beta = 1\n",
        "data2 = pd.DataFrame()\n",
        "data2[\"Distance\"] = data[\"Distance\"]\n",
        "data2[\"RotationAngle\"] = data[\"RotationAngle\"]\n",
        "data2[\"Delta1\"] = data[\"Delta1\"]\n",
        "data2[\"Delta2\"] = data[\"Delta2\"]\n",
        "data2[\"Delta3\"] = data[\"Delta3\"]\n",
        "\n",
        "for i in range(5, 153, 2):\n",
        "  name =cols[i]+cols[i+1]\n",
        "  name = name[:7]\n",
        "  data2[name] =   beta * data[cols[i]] + alpha * data[cols[i+1]]\n",
        "\n",
        "# print(data2['ALE-404'])\n",
        "\n",
        " \n",
        "print(data2.mean().sort_values)\n",
        "data=data2"
      ]
    },
    {
      "cell_type": "code",
      "execution_count": null,
      "metadata": {
        "id": "ZvZFeAFUSlcZ",
        "colab": {
          "base_uri": "https://localhost:8080/",
          "height": 206
        },
        "outputId": "6ad94848-9845-4749-ecf6-f4a4c658270a"
      },
      "outputs": [
        {
          "output_type": "execute_result",
          "data": {
            "text/plain": [
              "   Distance  RotationAngle  Delta1  Delta2  Delta3  ALE-230  ALE-234  ALE-257  \\\n",
              "0     11.67         130.45  -73.81  -73.77   77.67      0.0      0.0    -0.00   \n",
              "1     12.07         115.11  -66.09  -54.38   68.20      0.0      0.0     0.00   \n",
              "2     11.50         127.76  -58.72  -66.29   58.21      0.0      0.0    -0.00   \n",
              "3     11.63         123.05  -69.48  -52.95   66.98      0.0      0.0     0.00   \n",
              "4     12.43         128.96  -72.76  -55.61   73.33      0.0      0.0    -0.05   \n",
              "\n",
              "   ALE-258  ALE-259  ALE-260  ALE-261  ALE-262  ALE-263  ALE-264  \n",
              "0    -0.51    -1.03    -0.20    -0.06    -8.83    -3.35    -0.47  \n",
              "1    -0.54    -1.10    -0.46    -0.02   -12.05    -2.89    -0.58  \n",
              "2    -0.78    -1.33    -0.43     0.10   -12.95    -3.65    -0.81  \n",
              "3    -0.68    -0.87    -0.44    -0.10   -12.94    -4.87    -0.70  \n",
              "4    -0.85    -1.70    -0.44    -0.06   -13.49    -3.64    -0.42  "
            ],
            "text/html": [
              "\n",
              "  <div id=\"df-7865fc07-4684-458b-b9bf-b907bc9e553c\">\n",
              "    <div class=\"colab-df-container\">\n",
              "      <div>\n",
              "<style scoped>\n",
              "    .dataframe tbody tr th:only-of-type {\n",
              "        vertical-align: middle;\n",
              "    }\n",
              "\n",
              "    .dataframe tbody tr th {\n",
              "        vertical-align: top;\n",
              "    }\n",
              "\n",
              "    .dataframe thead th {\n",
              "        text-align: right;\n",
              "    }\n",
              "</style>\n",
              "<table border=\"1\" class=\"dataframe\">\n",
              "  <thead>\n",
              "    <tr style=\"text-align: right;\">\n",
              "      <th></th>\n",
              "      <th>Distance</th>\n",
              "      <th>RotationAngle</th>\n",
              "      <th>Delta1</th>\n",
              "      <th>Delta2</th>\n",
              "      <th>Delta3</th>\n",
              "      <th>ALE-230</th>\n",
              "      <th>ALE-234</th>\n",
              "      <th>ALE-257</th>\n",
              "      <th>ALE-258</th>\n",
              "      <th>ALE-259</th>\n",
              "      <th>ALE-260</th>\n",
              "      <th>ALE-261</th>\n",
              "      <th>ALE-262</th>\n",
              "      <th>ALE-263</th>\n",
              "      <th>ALE-264</th>\n",
              "    </tr>\n",
              "  </thead>\n",
              "  <tbody>\n",
              "    <tr>\n",
              "      <th>0</th>\n",
              "      <td>11.67</td>\n",
              "      <td>130.45</td>\n",
              "      <td>-73.81</td>\n",
              "      <td>-73.77</td>\n",
              "      <td>77.67</td>\n",
              "      <td>0.0</td>\n",
              "      <td>0.0</td>\n",
              "      <td>-0.00</td>\n",
              "      <td>-0.51</td>\n",
              "      <td>-1.03</td>\n",
              "      <td>-0.20</td>\n",
              "      <td>-0.06</td>\n",
              "      <td>-8.83</td>\n",
              "      <td>-3.35</td>\n",
              "      <td>-0.47</td>\n",
              "    </tr>\n",
              "    <tr>\n",
              "      <th>1</th>\n",
              "      <td>12.07</td>\n",
              "      <td>115.11</td>\n",
              "      <td>-66.09</td>\n",
              "      <td>-54.38</td>\n",
              "      <td>68.20</td>\n",
              "      <td>0.0</td>\n",
              "      <td>0.0</td>\n",
              "      <td>0.00</td>\n",
              "      <td>-0.54</td>\n",
              "      <td>-1.10</td>\n",
              "      <td>-0.46</td>\n",
              "      <td>-0.02</td>\n",
              "      <td>-12.05</td>\n",
              "      <td>-2.89</td>\n",
              "      <td>-0.58</td>\n",
              "    </tr>\n",
              "    <tr>\n",
              "      <th>2</th>\n",
              "      <td>11.50</td>\n",
              "      <td>127.76</td>\n",
              "      <td>-58.72</td>\n",
              "      <td>-66.29</td>\n",
              "      <td>58.21</td>\n",
              "      <td>0.0</td>\n",
              "      <td>0.0</td>\n",
              "      <td>-0.00</td>\n",
              "      <td>-0.78</td>\n",
              "      <td>-1.33</td>\n",
              "      <td>-0.43</td>\n",
              "      <td>0.10</td>\n",
              "      <td>-12.95</td>\n",
              "      <td>-3.65</td>\n",
              "      <td>-0.81</td>\n",
              "    </tr>\n",
              "    <tr>\n",
              "      <th>3</th>\n",
              "      <td>11.63</td>\n",
              "      <td>123.05</td>\n",
              "      <td>-69.48</td>\n",
              "      <td>-52.95</td>\n",
              "      <td>66.98</td>\n",
              "      <td>0.0</td>\n",
              "      <td>0.0</td>\n",
              "      <td>0.00</td>\n",
              "      <td>-0.68</td>\n",
              "      <td>-0.87</td>\n",
              "      <td>-0.44</td>\n",
              "      <td>-0.10</td>\n",
              "      <td>-12.94</td>\n",
              "      <td>-4.87</td>\n",
              "      <td>-0.70</td>\n",
              "    </tr>\n",
              "    <tr>\n",
              "      <th>4</th>\n",
              "      <td>12.43</td>\n",
              "      <td>128.96</td>\n",
              "      <td>-72.76</td>\n",
              "      <td>-55.61</td>\n",
              "      <td>73.33</td>\n",
              "      <td>0.0</td>\n",
              "      <td>0.0</td>\n",
              "      <td>-0.05</td>\n",
              "      <td>-0.85</td>\n",
              "      <td>-1.70</td>\n",
              "      <td>-0.44</td>\n",
              "      <td>-0.06</td>\n",
              "      <td>-13.49</td>\n",
              "      <td>-3.64</td>\n",
              "      <td>-0.42</td>\n",
              "    </tr>\n",
              "  </tbody>\n",
              "</table>\n",
              "</div>\n",
              "      <button class=\"colab-df-convert\" onclick=\"convertToInteractive('df-7865fc07-4684-458b-b9bf-b907bc9e553c')\"\n",
              "              title=\"Convert this dataframe to an interactive table.\"\n",
              "              style=\"display:none;\">\n",
              "        \n",
              "  <svg xmlns=\"http://www.w3.org/2000/svg\" height=\"24px\"viewBox=\"0 0 24 24\"\n",
              "       width=\"24px\">\n",
              "    <path d=\"M0 0h24v24H0V0z\" fill=\"none\"/>\n",
              "    <path d=\"M18.56 5.44l.94 2.06.94-2.06 2.06-.94-2.06-.94-.94-2.06-.94 2.06-2.06.94zm-11 1L8.5 8.5l.94-2.06 2.06-.94-2.06-.94L8.5 2.5l-.94 2.06-2.06.94zm10 10l.94 2.06.94-2.06 2.06-.94-2.06-.94-.94-2.06-.94 2.06-2.06.94z\"/><path d=\"M17.41 7.96l-1.37-1.37c-.4-.4-.92-.59-1.43-.59-.52 0-1.04.2-1.43.59L10.3 9.45l-7.72 7.72c-.78.78-.78 2.05 0 2.83L4 21.41c.39.39.9.59 1.41.59.51 0 1.02-.2 1.41-.59l7.78-7.78 2.81-2.81c.8-.78.8-2.07 0-2.86zM5.41 20L4 18.59l7.72-7.72 1.47 1.35L5.41 20z\"/>\n",
              "  </svg>\n",
              "      </button>\n",
              "      \n",
              "  <style>\n",
              "    .colab-df-container {\n",
              "      display:flex;\n",
              "      flex-wrap:wrap;\n",
              "      gap: 12px;\n",
              "    }\n",
              "\n",
              "    .colab-df-convert {\n",
              "      background-color: #E8F0FE;\n",
              "      border: none;\n",
              "      border-radius: 50%;\n",
              "      cursor: pointer;\n",
              "      display: none;\n",
              "      fill: #1967D2;\n",
              "      height: 32px;\n",
              "      padding: 0 0 0 0;\n",
              "      width: 32px;\n",
              "    }\n",
              "\n",
              "    .colab-df-convert:hover {\n",
              "      background-color: #E2EBFA;\n",
              "      box-shadow: 0px 1px 2px rgba(60, 64, 67, 0.3), 0px 1px 3px 1px rgba(60, 64, 67, 0.15);\n",
              "      fill: #174EA6;\n",
              "    }\n",
              "\n",
              "    [theme=dark] .colab-df-convert {\n",
              "      background-color: #3B4455;\n",
              "      fill: #D2E3FC;\n",
              "    }\n",
              "\n",
              "    [theme=dark] .colab-df-convert:hover {\n",
              "      background-color: #434B5C;\n",
              "      box-shadow: 0px 1px 3px 1px rgba(0, 0, 0, 0.15);\n",
              "      filter: drop-shadow(0px 1px 2px rgba(0, 0, 0, 0.3));\n",
              "      fill: #FFFFFF;\n",
              "    }\n",
              "  </style>\n",
              "\n",
              "      <script>\n",
              "        const buttonEl =\n",
              "          document.querySelector('#df-7865fc07-4684-458b-b9bf-b907bc9e553c button.colab-df-convert');\n",
              "        buttonEl.style.display =\n",
              "          google.colab.kernel.accessAllowed ? 'block' : 'none';\n",
              "\n",
              "        async function convertToInteractive(key) {\n",
              "          const element = document.querySelector('#df-7865fc07-4684-458b-b9bf-b907bc9e553c');\n",
              "          const dataTable =\n",
              "            await google.colab.kernel.invokeFunction('convertToInteractive',\n",
              "                                                     [key], {});\n",
              "          if (!dataTable) return;\n",
              "\n",
              "          const docLinkHtml = 'Like what you see? Visit the ' +\n",
              "            '<a target=\"_blank\" href=https://colab.research.google.com/notebooks/data_table.ipynb>data table notebook</a>'\n",
              "            + ' to learn more about interactive tables.';\n",
              "          element.innerHTML = '';\n",
              "          dataTable['output_type'] = 'display_data';\n",
              "          await google.colab.output.renderOutput(dataTable, element);\n",
              "          const docLink = document.createElement('div');\n",
              "          docLink.innerHTML = docLinkHtml;\n",
              "          element.appendChild(docLink);\n",
              "        }\n",
              "      </script>\n",
              "    </div>\n",
              "  </div>\n",
              "  "
            ]
          },
          "metadata": {},
          "execution_count": 3
        }
      ],
      "source": [
        "data.round(2).head().T.head(15).T"
      ]
    },
    {
      "cell_type": "code",
      "source": [
        "import collections\n",
        "\n",
        "mean_values = {}\n",
        "for i in range(5, 75, 1):\n",
        "    mean_values[data.columns[i]] = data.iloc[:, i].mean()\n",
        "\n",
        "print(mean_values)\n",
        "sorted_mean_values = dict(sorted(mean_values.items(), key=lambda item: item[1]))\n",
        "print(sorted_mean_values)\n",
        "print(\"Top 5 mean values:\")\n",
        "for key, value in list(sorted_mean_values.items())[:10]:\n",
        "    print(key, value)"
      ],
      "metadata": {
        "colab": {
          "base_uri": "https://localhost:8080/"
        },
        "id": "86K1qN0zldCq",
        "outputId": "7c508976-78c4-48bb-f96b-f6177a6cf117"
      },
      "execution_count": null,
      "outputs": [
        {
          "output_type": "stream",
          "name": "stdout",
          "text": [
            "{'ALE-230': 4.800000000000001e-06, 'ALE-234': -0.03226260000000001, 'ALE-257': -0.0339907, 'ALE-258': -0.6258301000000001, 'ALE-259': -1.1538601, 'ALE-260': -0.2717883, 'ALE-261': -0.1232775, 'ALE-262': -10.9614953, 'ALE-263': -3.0417522, 'ALE-264': -0.38561650000000003, 'ALE-265': 0.6921048, 'ALE-266': -0.27207039999999993, 'ALE-267': -0.8001117000000001, 'ALE-268': 0.0029357999999999967, 'ALE-269': 0.22908350000000002, 'ALE-270': 0.2523187, 'ALE-272': 0.0058937, 'ALE-312': 0.0110817, 'ALE-313': -0.24579470000000003, 'ALE-316': 0.0008599000000000001, 'ALE-317': 0.050447399999999996, 'ALE-321': 0.0, 'ALE-322': -0.0040644, 'ALE-323': -0.09641309999999999, 'ALE-340': -0.04322299999999999, 'ALE-341': -0.0629544, 'ALE-342': -2.446229, 'ALE-343': -0.021773599999999997, 'ALE-344': -0.33378789999999997, 'ALE-345': -0.13737939999999998, 'ALE-346': -0.126469, 'ALE-347': -0.13189459999999997, 'ALE-348': -1.6124202999999997, 'ALE-349': -0.8203303999999999, 'ALE-350': -0.1848497, 'ALE-351': 0.08933339999999998, 'ALE-352': -3.2407692, 'ALE-353': -1.8156182, 'ALE-354': 0.1535212, 'ALE-355': 0.3037663, 'ALE-356': -0.6801499, 'ALE-357': -0.20079680000000003, 'ALE-358': -0.07690419999999999, 'ALE-359': 0.005788000000000001, 'ALE-360': 0.028135200000000006, 'ALE-398': 0.0, 'ALE-400': -0.02677129999999999, 'ALE-401': -0.014302899999999999, 'ALE-402': -0.0519915, 'ALE-403': -0.1910557, 'ALE-404': -0.9286, 'ALE-405': -0.0918042, 'ALE-406': 0.014054900000000002, 'ALE-407': -1.2902847000000002, 'ALE-408': -2.8475212, 'ALE-409': 0.15196590000000004, 'ALE-410': -0.4722806, 'ALE-411': -4.352507, 'ALE-412': -0.21959660000000003, 'ALE-413': -0.04997920000000001, 'ALE-414': -0.2500425, 'ALE-415': -0.1710369, 'ALE-420': -1.4799999999999997e-05, 'ALE-422': -0.004164500000000001, 'ALE-425': -0.0050034, 'ALE-426': -0.9115369000000001, 'ALE-428': -0.0056708999999999996, 'ALE-429': -0.023606899999999997, 'ALE-430': -0.2834379, 'ALE-431': 0.005639700000000001}\n",
            "{'ALE-262': -10.9614953, 'ALE-411': -4.352507, 'ALE-352': -3.2407692, 'ALE-263': -3.0417522, 'ALE-408': -2.8475212, 'ALE-342': -2.446229, 'ALE-353': -1.8156182, 'ALE-348': -1.6124202999999997, 'ALE-407': -1.2902847000000002, 'ALE-259': -1.1538601, 'ALE-404': -0.9286, 'ALE-426': -0.9115369000000001, 'ALE-349': -0.8203303999999999, 'ALE-267': -0.8001117000000001, 'ALE-356': -0.6801499, 'ALE-258': -0.6258301000000001, 'ALE-410': -0.4722806, 'ALE-264': -0.38561650000000003, 'ALE-344': -0.33378789999999997, 'ALE-430': -0.2834379, 'ALE-266': -0.27207039999999993, 'ALE-260': -0.2717883, 'ALE-414': -0.2500425, 'ALE-313': -0.24579470000000003, 'ALE-412': -0.21959660000000003, 'ALE-357': -0.20079680000000003, 'ALE-403': -0.1910557, 'ALE-350': -0.1848497, 'ALE-415': -0.1710369, 'ALE-345': -0.13737939999999998, 'ALE-347': -0.13189459999999997, 'ALE-346': -0.126469, 'ALE-261': -0.1232775, 'ALE-323': -0.09641309999999999, 'ALE-405': -0.0918042, 'ALE-358': -0.07690419999999999, 'ALE-341': -0.0629544, 'ALE-402': -0.0519915, 'ALE-413': -0.04997920000000001, 'ALE-340': -0.04322299999999999, 'ALE-257': -0.0339907, 'ALE-234': -0.03226260000000001, 'ALE-400': -0.02677129999999999, 'ALE-429': -0.023606899999999997, 'ALE-343': -0.021773599999999997, 'ALE-401': -0.014302899999999999, 'ALE-428': -0.0056708999999999996, 'ALE-425': -0.0050034, 'ALE-422': -0.004164500000000001, 'ALE-322': -0.0040644, 'ALE-420': -1.4799999999999997e-05, 'ALE-321': 0.0, 'ALE-398': 0.0, 'ALE-230': 4.800000000000001e-06, 'ALE-316': 0.0008599000000000001, 'ALE-268': 0.0029357999999999967, 'ALE-431': 0.005639700000000001, 'ALE-359': 0.005788000000000001, 'ALE-272': 0.0058937, 'ALE-312': 0.0110817, 'ALE-406': 0.014054900000000002, 'ALE-360': 0.028135200000000006, 'ALE-317': 0.050447399999999996, 'ALE-351': 0.08933339999999998, 'ALE-409': 0.15196590000000004, 'ALE-354': 0.1535212, 'ALE-269': 0.22908350000000002, 'ALE-270': 0.2523187, 'ALE-355': 0.3037663, 'ALE-265': 0.6921048}\n",
            "Top 5 mean values:\n",
            "ALE-262 -10.9614953\n",
            "ALE-411 -4.352507\n",
            "ALE-352 -3.2407692\n",
            "ALE-263 -3.0417522\n",
            "ALE-408 -2.8475212\n",
            "ALE-342 -2.446229\n",
            "ALE-353 -1.8156182\n",
            "ALE-348 -1.6124202999999997\n",
            "ALE-407 -1.2902847000000002\n",
            "ALE-259 -1.1538601\n"
          ]
        }
      ]
    },
    {
      "cell_type": "markdown",
      "metadata": {
        "id": "8lGpIy7IXOfE"
      },
      "source": [
        "##Statistical Coefficient Calculation Based Methods"
      ]
    },
    {
      "cell_type": "markdown",
      "metadata": {
        "id": "VsVRyOyoW-DV"
      },
      "source": [
        "### Pearson's Correlation Coefficient"
      ]
    },
    {
      "cell_type": "code",
      "execution_count": null,
      "metadata": {
        "id": "mOVG565TZUZR"
      },
      "outputs": [],
      "source": [
        "correlations = data.corr()\n",
        "print(correlations)"
      ]
    },
    {
      "cell_type": "code",
      "execution_count": null,
      "metadata": {
        "id": "4lkhHnNJYPBw"
      },
      "outputs": [],
      "source": [
        "import matplotlib.pyplot as plt\n",
        "print(correlations[\"Distance\"].sort_values(ascending=False).head(10))\n",
        "plt.bar([x for x in range(len(correlations[\"Distance\"]))], correlations[\"Distance\"])\n",
        "plt.show()"
      ]
    },
    {
      "cell_type": "code",
      "execution_count": null,
      "metadata": {
        "id": "VV2L0x_jYx21"
      },
      "outputs": [],
      "source": [
        "%matplotlib inline\n",
        "import seaborn as sns\n",
        "import matplotlib.pyplot as plt\n",
        "\n",
        "sns.heatmap(correlations)\n",
        "\n",
        "plt.show()\n"
      ]
    },
    {
      "cell_type": "markdown",
      "metadata": {
        "id": "ajEREeR_XS2E"
      },
      "source": [
        "###Spearman Correlation Coefficient"
      ]
    },
    {
      "cell_type": "code",
      "execution_count": null,
      "metadata": {
        "id": "ZLjDgdQGBsCr"
      },
      "outputs": [],
      "source": [
        "spearman_coeff = data.corr(method=\"spearman\")\n",
        "print(spearman_coeff)"
      ]
    },
    {
      "cell_type": "code",
      "execution_count": null,
      "metadata": {
        "id": "OCsG49AfChBT"
      },
      "outputs": [],
      "source": [
        "print(spearman_coeff[\"Distance\"].sort_values(ascending=False).head(10))\n",
        "plt.bar([x for x in range(len(correlations[\"Distance\"]))], correlations[\"Distance\"])\n",
        "plt.show()"
      ]
    },
    {
      "cell_type": "code",
      "execution_count": null,
      "metadata": {
        "id": "qSYiJsScDcig"
      },
      "outputs": [],
      "source": [
        "sns.heatmap(spearman_coeff)\n",
        "\n",
        "plt.show()"
      ]
    },
    {
      "cell_type": "markdown",
      "metadata": {
        "id": "W-s1JyScXY-d"
      },
      "source": [
        "## ML Methods"
      ]
    },
    {
      "cell_type": "markdown",
      "metadata": {
        "id": "vgl1P_ama1ZX"
      },
      "source": [
        "###Dataset Preparation"
      ]
    },
    {
      "cell_type": "code",
      "execution_count": null,
      "metadata": {
        "id": "8dMugFgVa3sd"
      },
      "outputs": [],
      "source": [
        "import sklearn\n",
        "print(sklearn.__version__)"
      ]
    },
    {
      "cell_type": "code",
      "execution_count": null,
      "metadata": {
        "id": "vKQ48Yaxa9Ta"
      },
      "outputs": [],
      "source": [
        "# test regression dataset\n",
        "from sklearn.datasets import make_regression\n",
        "from sklearn import preprocessing\n",
        "# define dataset\n",
        "# xa = data.values #returns a numpy array\n",
        "# min_max_scaler = preprocessing.MinMaxScaler()\n",
        "# x_scaled = min_max_scaler.fit_transform(xa)\n",
        "# data = pd.DataFrame(x_scaled, columns=data.columns)\n",
        "# print(data)\n",
        "data1=data.drop('Distance', axis=1)\n",
        "data1=data1.drop('RotationAngle', axis=1)\n",
        "data1=data1.drop('Delta1', axis=1)\n",
        "data1=data1.drop('Delta2', axis=1)\n",
        "x=data1.drop('Delta3', axis=1)\n",
        "y=data['Distance']\n",
        "# summarize the dataset\n",
        "print(x)\n",
        "print(x.shape)\n",
        "print(y)\n",
        "print(y.shape)\n",
        "# print(x['ALE-403']) #trp6.48\n",
        "# print(x['ALE-356']) #ser5.46\n",
        "# print(x['ALE-400']) #phe6.44\n",
        "# print(x['ALE-420']) #leuecl3\n",
        "# print(x['ALE-259']) #"
      ]
    },
    {
      "cell_type": "code",
      "source": [
        "print(x['ALE-403']) #trp6.48"
      ],
      "metadata": {
        "id": "RGunVtv8GJ8T"
      },
      "execution_count": null,
      "outputs": []
    },
    {
      "cell_type": "code",
      "source": [
        "print(x['ALE-356']) #ser5.46"
      ],
      "metadata": {
        "id": "6ayS5E1dGMQe"
      },
      "execution_count": null,
      "outputs": []
    },
    {
      "cell_type": "code",
      "source": [
        "print(x['ALE-400']) #phe6.44"
      ],
      "metadata": {
        "id": "Li7kqPuXGP-o"
      },
      "execution_count": null,
      "outputs": []
    },
    {
      "cell_type": "code",
      "source": [
        "print(x['ALE-420']) #leuecl3"
      ],
      "metadata": {
        "id": "Ax37QUtlGSVu"
      },
      "execution_count": null,
      "outputs": []
    },
    {
      "cell_type": "code",
      "source": [
        "print(x['ALE-359']) #val5.49"
      ],
      "metadata": {
        "id": "Xs9aonlvHeum"
      },
      "execution_count": null,
      "outputs": []
    },
    {
      "cell_type": "code",
      "source": [
        "print(x['ALE-430']) #asn7.39"
      ],
      "metadata": {
        "id": "1GjQmxr6H1AQ"
      },
      "execution_count": null,
      "outputs": []
    },
    {
      "cell_type": "code",
      "execution_count": null,
      "metadata": {
        "id": "STu4tANQja5X"
      },
      "outputs": [],
      "source": [
        "from sklearn.model_selection import train_test_split\n",
        "x_train, x_test, y_train, y_test = train_test_split(x, y, test_size = 0.2)"
      ]
    },
    {
      "cell_type": "code",
      "source": [],
      "metadata": {
        "id": "6kInMdwgHqUR"
      },
      "execution_count": null,
      "outputs": []
    },
    {
      "cell_type": "markdown",
      "metadata": {
        "id": "N7CW-tyRkIex"
      },
      "source": [
        "###Linear Regression"
      ]
    },
    {
      "cell_type": "code",
      "execution_count": null,
      "metadata": {
        "id": "S5dvy81CkF-U"
      },
      "outputs": [],
      "source": [
        "from sklearn.linear_model import LinearRegression\n",
        "from sklearn.model_selection import KFold\n",
        "from sklearn.metrics import mean_squared_error\n",
        "import pandas as pd\n",
        "import numpy as np\n",
        "import matplotlib.pyplot as plt\n",
        "\n",
        "# define the model\n",
        "model = LinearRegression()\n",
        "\n",
        "# define 10-fold cross-validation\n",
        "cv = KFold(n_splits=10, random_state=1, shuffle=True)\n",
        "\n",
        "# initialize feature importance scores\n",
        "importance_scores = pd.DataFrame(columns=['feature', 'importance'])\n",
        "\n",
        "# perform 10-fold cross-validation\n",
        "for train_index, test_index in cv.split(x):\n",
        "    # get training and testing data\n",
        "    x_train, x_test = x.iloc[train_index], x.iloc[test_index]\n",
        "    y_train, y_test = y.iloc[train_index], y.iloc[test_index]\n",
        "\n",
        "    # fit the model on training data\n",
        "    model.fit(x_train, y_train)\n",
        "\n",
        "    # get feature importance scores\n",
        "    importance = model.coef_\n",
        "    # append feature importance scores to dataframe\n",
        "    importance_scores = importance_scores.append(pd.DataFrame({\n",
        "        'feature': x_train.columns,\n",
        "        'importance': importance\n",
        "    }), ignore_index=True)\n",
        "\n",
        "# calculate average feature importance scores across 10 models\n",
        "avg_importance_scores = importance_scores.groupby('feature')['importance'].mean().reset_index()\n",
        "\n",
        "# sort feature importance scores in descending order\n",
        "avg_importance_scores = avg_importance_scores.sort_values(by='importance', ascending=False)\n",
        "\n",
        "# print feature importance scores\n",
        "print(avg_importance_scores)\n",
        "\n",
        "# plot feature importance scores\n",
        "plt.bar(avg_importance_scores['feature'], avg_importance_scores['importance'])\n",
        "plt.xticks(rotation=90)\n",
        "plt.show()\n"
      ]
    },
    {
      "cell_type": "markdown",
      "metadata": {
        "id": "A--qFZalUb4j"
      },
      "source": [
        "## Decision Tree Cart"
      ]
    },
    {
      "cell_type": "code",
      "execution_count": null,
      "metadata": {
        "id": "S5K5VtfOUqxA"
      },
      "outputs": [],
      "source": [
        "from sklearn.tree import DecisionTreeRegressor\n",
        "from sklearn.model_selection import KFold\n",
        "from sklearn.metrics import mean_squared_error\n",
        "import pandas as pd\n",
        "import numpy as np\n",
        "import matplotlib.pyplot as plt\n",
        "\n",
        "# define the model\n",
        "model = DecisionTreeRegressor()\n",
        "\n",
        "# define 10-fold cross-validation\n",
        "cv = KFold(n_splits=10, random_state=1, shuffle=True)\n",
        "\n",
        "# initialize feature importance scores\n",
        "importance_scores = pd.DataFrame(columns=['feature', 'importance'])\n",
        "\n",
        "# perform 10-fold cross-validation\n",
        "for train_index, test_index in cv.split(x):\n",
        "    # get training and testing data\n",
        "    x_train, x_test = x.iloc[train_index], x.iloc[test_index]\n",
        "    y_train, y_test = y.iloc[train_index], y.iloc[test_index]\n",
        "\n",
        "    # fit the model on training data\n",
        "    model.fit(x_train, y_train)\n",
        "\n",
        "    # get feature importance scores\n",
        "    importance = model.feature_importances_\n",
        "\n",
        "    # append feature importance scores to dataframe\n",
        "    importance_scores = importance_scores.append(pd.DataFrame({\n",
        "        'feature': x_train.columns,\n",
        "        'importance': importance\n",
        "    }), ignore_index=True)\n",
        "\n",
        "# calculate average feature importance scores across 10 models\n",
        "avg_importance_scores = importance_scores.groupby('feature')['importance'].mean().reset_index()\n",
        "\n",
        "# sort feature importance scores in descending order\n",
        "avg_importance_scores = avg_importance_scores.sort_values(by='importance', ascending=False)\n",
        "\n",
        "# print feature importance scores\n",
        "print(avg_importance_scores)\n",
        "\n",
        "# plot feature importance scores\n",
        "plt.bar(avg_importance_scores['feature'], avg_importance_scores['importance'])\n",
        "plt.xticks(rotation=90)\n",
        "plt.show()\n"
      ]
    },
    {
      "cell_type": "markdown",
      "metadata": {
        "id": "3xYt0eVSgLyj"
      },
      "source": [
        "###Random Forest"
      ]
    },
    {
      "cell_type": "code",
      "execution_count": null,
      "metadata": {
        "id": "t5tCaTSKYhnP"
      },
      "outputs": [],
      "source": [
        "from sklearn.ensemble import RandomForestRegressor\n",
        "\n",
        "# define the model\n",
        "model = RandomForestRegressor()\n",
        "\n",
        "# define 10-fold cross-validation\n",
        "cv = KFold(n_splits=10, random_state=1, shuffle=True)\n",
        "\n",
        "# initialize feature importance scores\n",
        "importance_scores = pd.DataFrame(columns=['feature', 'importance'])\n",
        "\n",
        "# perform 10-fold cross-validation\n",
        "for train_index, test_index in cv.split(x):\n",
        "    # get training and testing data\n",
        "    x_train, x_test = x.iloc[train_index], x.iloc[test_index]\n",
        "    y_train, y_test = y.iloc[train_index], y.iloc[test_index]\n",
        "\n",
        "    # fit the model on training data\n",
        "    model.fit(x_train, y_train)\n",
        "\n",
        "    # get feature importance scores\n",
        "    importance = model.feature_importances_\n",
        "\n",
        "    # append feature importance scores to dataframe\n",
        "    importance_scores = importance_scores.append(pd.DataFrame({\n",
        "        'feature': x_train.columns,\n",
        "        'importance': importance\n",
        "    }), ignore_index=True)\n",
        "\n",
        "# calculate average feature importance scores across 10 models\n",
        "avg_importance_scores = importance_scores.groupby('feature')['importance'].mean().reset_index()\n",
        "\n",
        "# sort feature importance scores in descending order\n",
        "avg_importance_scores = avg_importance_scores.sort_values(by='importance', ascending=False)\n",
        "\n",
        "# print feature importance scores\n",
        "print(avg_importance_scores)\n",
        "\n",
        "# plot feature importance scores\n",
        "plt.bar(avg_importance_scores['feature'], avg_importance_scores['importance'])\n",
        "plt.xticks(rotation=90)\n",
        "plt.show()\n"
      ]
    },
    {
      "cell_type": "markdown",
      "metadata": {
        "id": "DxXxS-ctgr1f"
      },
      "source": [
        "###XGBOOST"
      ]
    },
    {
      "cell_type": "code",
      "execution_count": null,
      "metadata": {
        "id": "LJz09tfmgxwl"
      },
      "outputs": [],
      "source": [
        "from xgboost.sklearn import XGBRegressor\n",
        "\n",
        "# define the model\n",
        "model = XGBRegressor()\n",
        "\n",
        "# define 10-fold cross-validation\n",
        "cv = KFold(n_splits=10, random_state=1, shuffle=True)\n",
        "\n",
        "# initialize feature importance scores\n",
        "importance_scores = pd.DataFrame(columns=['feature', 'importance'])\n",
        "\n",
        "# perform 10-fold cross-validation\n",
        "for train_index, test_index in cv.split(x):\n",
        "    # get training and testing data\n",
        "    x_train, x_test = x.iloc[train_index], x.iloc[test_index]\n",
        "    y_train, y_test = y.iloc[train_index], y.iloc[test_index]\n",
        "\n",
        "    # fit the model on training data\n",
        "    model.fit(x_train, y_train)\n",
        "\n",
        "    # get feature importance scores\n",
        "    importance = model.feature_importances_\n",
        "\n",
        "    # append feature importance scores to dataframe\n",
        "    importance_scores = importance_scores.append(pd.DataFrame({\n",
        "        'feature': x_train.columns,\n",
        "        'importance': importance\n",
        "    }), ignore_index=True)\n",
        "\n",
        "# calculate average feature importance scores across 10 models\n",
        "avg_importance_scores = importance_scores.groupby('feature')['importance'].mean().reset_index()\n",
        "\n",
        "# sort feature importance scores in descending order\n",
        "avg_importance_scores = avg_importance_scores.sort_values(by='importance', ascending=False)\n",
        "\n",
        "# print feature importance scores\n",
        "print(avg_importance_scores)\n",
        "\n",
        "# plot feature importance scores\n",
        "plt.bar(avg_importance_scores['feature'], avg_importance_scores['importance'])\n",
        "plt.xticks(rotation=90)\n",
        "plt.show()\n"
      ]
    },
    {
      "cell_type": "markdown",
      "metadata": {
        "id": "eFYCbbHOkh3w"
      },
      "source": [
        "###KNeghibours"
      ]
    },
    {
      "cell_type": "code",
      "execution_count": null,
      "metadata": {
        "id": "vFTWr_xdklIf"
      },
      "outputs": [],
      "source": [
        "from sklearn.neighbors import KNeighborsRegressor\n",
        "from sklearn.inspection import permutation_importance\n",
        "import numpy as np\n",
        "\n",
        "# define the model\n",
        "model = KNeighborsRegressor()\n",
        "\n",
        "# define 10-fold cross-validation\n",
        "cv = KFold(n_splits=10, random_state=1, shuffle=True)\n",
        "\n",
        "# initialize feature importance scores\n",
        "importance_scores = pd.DataFrame(columns=['feature', 'importance'])\n",
        "\n",
        "# perform 10-fold cross-validation\n",
        "for train_index, test_index in cv.split(x):\n",
        "    # get training and testing data\n",
        "    x_train, x_test = x.iloc[train_index], x.iloc[test_index]\n",
        "    y_train, y_test = y.iloc[train_index], y.iloc[test_index]\n",
        "\n",
        "    # fit the model on training data\n",
        "    model.fit(x_train, y_train)\n",
        "\n",
        "    # get feature importance scores using permutation importance\n",
        "    result = permutation_importance(model, x_test, y_test, n_repeats=10, random_state=1)\n",
        "    importance = result.importances_mean\n",
        "\n",
        "    # append feature importance scores to dataframe\n",
        "    importance_scores = importance_scores.append(pd.DataFrame({\n",
        "        'feature': x_train.columns,\n",
        "        'importance': importance\n",
        "    }), ignore_index=True)\n",
        "\n",
        "# calculate average feature importance scores across 10 models\n",
        "avg_importance_scores = importance_scores.groupby('feature')['importance'].mean().reset_index()\n",
        "\n",
        "# sort feature importance scores in descending order\n",
        "avg_importance_scores = avg_importance_scores.sort_values(by='importance', ascending=False)\n",
        "\n",
        "# print feature importance scores\n",
        "print(avg_importance_scores)\n",
        "\n",
        "# plot feature importance scores\n",
        "plt.bar(avg_importance_scores['feature'], avg_importance_scores['importance'])\n",
        "plt.xticks(rotation=90)\n",
        "plt.show()\n"
      ]
    }
  ],
  "metadata": {
    "colab": {
      "provenance": [],
      "mount_file_id": "1JDxLMeYw8yBfyavGk_NZB7H2fNNcKFpk",
      "authorship_tag": "ABX9TyNhsKX0viWFmQU4LfdqDvBl",
      "include_colab_link": true
    },
    "kernelspec": {
      "display_name": "Python 3",
      "name": "python3"
    },
    "language_info": {
      "name": "python"
    }
  },
  "nbformat": 4,
  "nbformat_minor": 0
}