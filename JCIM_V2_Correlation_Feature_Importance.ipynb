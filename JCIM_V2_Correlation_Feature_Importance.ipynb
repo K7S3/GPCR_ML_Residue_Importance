{
  "cells": [
    {
      "cell_type": "markdown",
      "metadata": {
        "id": "view-in-github",
        "colab_type": "text"
      },
      "source": [
        "<a href=\"https://colab.research.google.com/github/K7S3/GPCR_ML_Residue_Importance/blob/main/JCIM_V2_Correlation_Feature_Importance.ipynb\" target=\"_parent\"><img src=\"https://colab.research.google.com/assets/colab-badge.svg\" alt=\"Open In Colab\"/></a>"
      ]
    },
    {
      "cell_type": "markdown",
      "metadata": {
        "id": "2V2pdFTqWvVx"
      },
      "source": [
        "# Feature Importance/Selection Methods\n"
      ]
    },
    {
      "cell_type": "markdown",
      "metadata": {
        "id": "BcqhPIMyW7WY"
      },
      "source": [
        "##Dataset"
      ]
    },
    {
      "cell_type": "code",
      "execution_count": 1,
      "metadata": {
        "colab": {
          "base_uri": "https://localhost:8080/"
        },
        "id": "9pF3yjQmUQWK",
        "outputId": "da1a3231-76ae-4b68-9e2b-466682f98fa0"
      },
      "outputs": [
        {
          "output_type": "stream",
          "name": "stdout",
          "text": [
            "Drive already mounted at /content/drive; to attempt to forcibly remount, call drive.mount(\"/content/drive\", force_remount=True).\n"
          ]
        }
      ],
      "source": [
        "from google.colab import drive\n",
        "drive.mount('/content/drive')"
      ]
    },
    {
      "cell_type": "code",
      "execution_count": 2,
      "metadata": {
        "colab": {
          "base_uri": "https://localhost:8080/",
          "height": 427
        },
        "id": "xCp_0Q-7xLa_",
        "outputId": "04f1b6e6-5beb-4d9e-8816-48d9b66a50c0"
      },
      "outputs": [
        {
          "output_type": "stream",
          "name": "stdout",
          "text": [
            "Index(['Distance', 'Rotation', 'Delta1', 'Delta2', 'Delta3', 'ALE-230EELEC',\n",
            "       'ALE-230EVDW', 'ALE-234EELEC', 'ALE-234EVDW', 'ALE-257EELEC',\n",
            "       ...\n",
            "       'ALE-430EELEC', 'ALE-430EVDW', 'ALE-431EELEC', 'ALE-431EVDW',\n",
            "       'ALE-432EELEC', 'ALE-432EVDW', 'ALE-433EELEC', 'ALE-433EVDW',\n",
            "       'ALE-435EELEC', 'ALE-435EVDW'],\n",
            "      dtype='object', length=147)\n"
          ]
        },
        {
          "output_type": "stream",
          "name": "stderr",
          "text": [
            "<ipython-input-2-0eb150202e14>:8: FutureWarning: The default value of regex will change from True to False in a future version.\n",
            "  cols = cols.astype(str).str.replace(r\"[\\[\\]']\", '')\n"
          ]
        },
        {
          "output_type": "execute_result",
          "data": {
            "text/plain": [
              "   Distance  Rotation  Delta1  Delta2  Delta3  ALE-230EELEC  ALE-230EVDW  \\\n",
              "0     12.04    130.83  -65.55  -69.67   75.56           0.0          0.0   \n",
              "1     11.69    120.81  -61.06  -60.05   70.92           0.0          0.0   \n",
              "2     12.14    120.83  -65.34  -65.97   71.19           0.0          0.0   \n",
              "3     11.63    115.28  -66.69  -67.14   68.38           0.0          0.0   \n",
              "4     11.80    126.82  -60.80  -54.65   89.31           0.0          0.0   \n",
              "\n",
              "   ALE-234EELEC  ALE-234EVDW  ALE-257EELEC  ALE-257EVDW  ALE-258EELEC  \\\n",
              "0           0.0          0.0         -0.00         -0.0         -0.41   \n",
              "1           0.0          0.0          0.00          0.0         -0.37   \n",
              "2           0.0          0.0         -0.00         -0.0         -0.60   \n",
              "3           0.0          0.0          0.00          0.0         -0.56   \n",
              "4           0.0          0.0         -0.05         -0.0         -0.57   \n",
              "\n",
              "   ALE-258EVDW  ALE-259EELEC  ALE-259EVDW  \n",
              "0        -0.10         -0.54        -0.49  \n",
              "1        -0.16         -0.85        -0.25  \n",
              "2        -0.18         -1.05        -0.28  \n",
              "3        -0.13         -0.63        -0.24  \n",
              "4        -0.28         -1.35        -0.35  "
            ],
            "text/html": [
              "\n",
              "  <div id=\"df-f5eab54e-ee4b-4a6a-8e02-7e28b245f090\">\n",
              "    <div class=\"colab-df-container\">\n",
              "      <div>\n",
              "<style scoped>\n",
              "    .dataframe tbody tr th:only-of-type {\n",
              "        vertical-align: middle;\n",
              "    }\n",
              "\n",
              "    .dataframe tbody tr th {\n",
              "        vertical-align: top;\n",
              "    }\n",
              "\n",
              "    .dataframe thead th {\n",
              "        text-align: right;\n",
              "    }\n",
              "</style>\n",
              "<table border=\"1\" class=\"dataframe\">\n",
              "  <thead>\n",
              "    <tr style=\"text-align: right;\">\n",
              "      <th></th>\n",
              "      <th>Distance</th>\n",
              "      <th>Rotation</th>\n",
              "      <th>Delta1</th>\n",
              "      <th>Delta2</th>\n",
              "      <th>Delta3</th>\n",
              "      <th>ALE-230EELEC</th>\n",
              "      <th>ALE-230EVDW</th>\n",
              "      <th>ALE-234EELEC</th>\n",
              "      <th>ALE-234EVDW</th>\n",
              "      <th>ALE-257EELEC</th>\n",
              "      <th>ALE-257EVDW</th>\n",
              "      <th>ALE-258EELEC</th>\n",
              "      <th>ALE-258EVDW</th>\n",
              "      <th>ALE-259EELEC</th>\n",
              "      <th>ALE-259EVDW</th>\n",
              "    </tr>\n",
              "  </thead>\n",
              "  <tbody>\n",
              "    <tr>\n",
              "      <th>0</th>\n",
              "      <td>12.04</td>\n",
              "      <td>130.83</td>\n",
              "      <td>-65.55</td>\n",
              "      <td>-69.67</td>\n",
              "      <td>75.56</td>\n",
              "      <td>0.0</td>\n",
              "      <td>0.0</td>\n",
              "      <td>0.0</td>\n",
              "      <td>0.0</td>\n",
              "      <td>-0.00</td>\n",
              "      <td>-0.0</td>\n",
              "      <td>-0.41</td>\n",
              "      <td>-0.10</td>\n",
              "      <td>-0.54</td>\n",
              "      <td>-0.49</td>\n",
              "    </tr>\n",
              "    <tr>\n",
              "      <th>1</th>\n",
              "      <td>11.69</td>\n",
              "      <td>120.81</td>\n",
              "      <td>-61.06</td>\n",
              "      <td>-60.05</td>\n",
              "      <td>70.92</td>\n",
              "      <td>0.0</td>\n",
              "      <td>0.0</td>\n",
              "      <td>0.0</td>\n",
              "      <td>0.0</td>\n",
              "      <td>0.00</td>\n",
              "      <td>0.0</td>\n",
              "      <td>-0.37</td>\n",
              "      <td>-0.16</td>\n",
              "      <td>-0.85</td>\n",
              "      <td>-0.25</td>\n",
              "    </tr>\n",
              "    <tr>\n",
              "      <th>2</th>\n",
              "      <td>12.14</td>\n",
              "      <td>120.83</td>\n",
              "      <td>-65.34</td>\n",
              "      <td>-65.97</td>\n",
              "      <td>71.19</td>\n",
              "      <td>0.0</td>\n",
              "      <td>0.0</td>\n",
              "      <td>0.0</td>\n",
              "      <td>0.0</td>\n",
              "      <td>-0.00</td>\n",
              "      <td>-0.0</td>\n",
              "      <td>-0.60</td>\n",
              "      <td>-0.18</td>\n",
              "      <td>-1.05</td>\n",
              "      <td>-0.28</td>\n",
              "    </tr>\n",
              "    <tr>\n",
              "      <th>3</th>\n",
              "      <td>11.63</td>\n",
              "      <td>115.28</td>\n",
              "      <td>-66.69</td>\n",
              "      <td>-67.14</td>\n",
              "      <td>68.38</td>\n",
              "      <td>0.0</td>\n",
              "      <td>0.0</td>\n",
              "      <td>0.0</td>\n",
              "      <td>0.0</td>\n",
              "      <td>0.00</td>\n",
              "      <td>0.0</td>\n",
              "      <td>-0.56</td>\n",
              "      <td>-0.13</td>\n",
              "      <td>-0.63</td>\n",
              "      <td>-0.24</td>\n",
              "    </tr>\n",
              "    <tr>\n",
              "      <th>4</th>\n",
              "      <td>11.80</td>\n",
              "      <td>126.82</td>\n",
              "      <td>-60.80</td>\n",
              "      <td>-54.65</td>\n",
              "      <td>89.31</td>\n",
              "      <td>0.0</td>\n",
              "      <td>0.0</td>\n",
              "      <td>0.0</td>\n",
              "      <td>0.0</td>\n",
              "      <td>-0.05</td>\n",
              "      <td>-0.0</td>\n",
              "      <td>-0.57</td>\n",
              "      <td>-0.28</td>\n",
              "      <td>-1.35</td>\n",
              "      <td>-0.35</td>\n",
              "    </tr>\n",
              "  </tbody>\n",
              "</table>\n",
              "</div>\n",
              "      <button class=\"colab-df-convert\" onclick=\"convertToInteractive('df-f5eab54e-ee4b-4a6a-8e02-7e28b245f090')\"\n",
              "              title=\"Convert this dataframe to an interactive table.\"\n",
              "              style=\"display:none;\">\n",
              "        \n",
              "  <svg xmlns=\"http://www.w3.org/2000/svg\" height=\"24px\"viewBox=\"0 0 24 24\"\n",
              "       width=\"24px\">\n",
              "    <path d=\"M0 0h24v24H0V0z\" fill=\"none\"/>\n",
              "    <path d=\"M18.56 5.44l.94 2.06.94-2.06 2.06-.94-2.06-.94-.94-2.06-.94 2.06-2.06.94zm-11 1L8.5 8.5l.94-2.06 2.06-.94-2.06-.94L8.5 2.5l-.94 2.06-2.06.94zm10 10l.94 2.06.94-2.06 2.06-.94-2.06-.94-.94-2.06-.94 2.06-2.06.94z\"/><path d=\"M17.41 7.96l-1.37-1.37c-.4-.4-.92-.59-1.43-.59-.52 0-1.04.2-1.43.59L10.3 9.45l-7.72 7.72c-.78.78-.78 2.05 0 2.83L4 21.41c.39.39.9.59 1.41.59.51 0 1.02-.2 1.41-.59l7.78-7.78 2.81-2.81c.8-.78.8-2.07 0-2.86zM5.41 20L4 18.59l7.72-7.72 1.47 1.35L5.41 20z\"/>\n",
              "  </svg>\n",
              "      </button>\n",
              "      \n",
              "  <style>\n",
              "    .colab-df-container {\n",
              "      display:flex;\n",
              "      flex-wrap:wrap;\n",
              "      gap: 12px;\n",
              "    }\n",
              "\n",
              "    .colab-df-convert {\n",
              "      background-color: #E8F0FE;\n",
              "      border: none;\n",
              "      border-radius: 50%;\n",
              "      cursor: pointer;\n",
              "      display: none;\n",
              "      fill: #1967D2;\n",
              "      height: 32px;\n",
              "      padding: 0 0 0 0;\n",
              "      width: 32px;\n",
              "    }\n",
              "\n",
              "    .colab-df-convert:hover {\n",
              "      background-color: #E2EBFA;\n",
              "      box-shadow: 0px 1px 2px rgba(60, 64, 67, 0.3), 0px 1px 3px 1px rgba(60, 64, 67, 0.15);\n",
              "      fill: #174EA6;\n",
              "    }\n",
              "\n",
              "    [theme=dark] .colab-df-convert {\n",
              "      background-color: #3B4455;\n",
              "      fill: #D2E3FC;\n",
              "    }\n",
              "\n",
              "    [theme=dark] .colab-df-convert:hover {\n",
              "      background-color: #434B5C;\n",
              "      box-shadow: 0px 1px 3px 1px rgba(0, 0, 0, 0.15);\n",
              "      filter: drop-shadow(0px 1px 2px rgba(0, 0, 0, 0.3));\n",
              "      fill: #FFFFFF;\n",
              "    }\n",
              "  </style>\n",
              "\n",
              "      <script>\n",
              "        const buttonEl =\n",
              "          document.querySelector('#df-f5eab54e-ee4b-4a6a-8e02-7e28b245f090 button.colab-df-convert');\n",
              "        buttonEl.style.display =\n",
              "          google.colab.kernel.accessAllowed ? 'block' : 'none';\n",
              "\n",
              "        async function convertToInteractive(key) {\n",
              "          const element = document.querySelector('#df-f5eab54e-ee4b-4a6a-8e02-7e28b245f090');\n",
              "          const dataTable =\n",
              "            await google.colab.kernel.invokeFunction('convertToInteractive',\n",
              "                                                     [key], {});\n",
              "          if (!dataTable) return;\n",
              "\n",
              "          const docLinkHtml = 'Like what you see? Visit the ' +\n",
              "            '<a target=\"_blank\" href=https://colab.research.google.com/notebooks/data_table.ipynb>data table notebook</a>'\n",
              "            + ' to learn more about interactive tables.';\n",
              "          element.innerHTML = '';\n",
              "          dataTable['output_type'] = 'display_data';\n",
              "          await google.colab.output.renderOutput(dataTable, element);\n",
              "          const docLink = document.createElement('div');\n",
              "          docLink.innerHTML = docLinkHtml;\n",
              "          element.appendChild(docLink);\n",
              "        }\n",
              "      </script>\n",
              "    </div>\n",
              "  </div>\n",
              "  "
            ]
          },
          "metadata": {},
          "execution_count": 2
        }
      ],
      "source": [
        "import pandas as pd\n",
        "import numpy as np\n",
        "from sklearn.impute import KNNImputer\n",
        "from sklearn import preprocessing\n",
        "data_in = pd.read_csv(\"drive/MyDrive/dataset_new.csv\", delimiter=',', encoding=\"utf-8-sig\")\n",
        "\n",
        "cols=data_in.columns\n",
        "cols = cols.astype(str).str.replace(r\"[\\[\\]']\", '')\n",
        "print(cols)\n",
        "data_in.columns=cols\n",
        "\n",
        "data_in.round(2).head().T.head(15).T"
      ]
    },
    {
      "cell_type": "code",
      "source": [
        "import matplotlib.pyplot as plt\n",
        "\n",
        "bin_size = 15\n",
        "\n",
        "bins = range(0, 181, bin_size)\n",
        "plt.hist(data_in['Rotation'], bins=bins)\n",
        "plt.xlabel('Rotation')\n",
        "plt.ylabel('Frequency')\n",
        "plt.title('Histogram of Rotation Values')\n",
        "plt.show()"
      ],
      "metadata": {
        "colab": {
          "base_uri": "https://localhost:8080/",
          "height": 472
        },
        "id": "BTASoGfnrqoR",
        "outputId": "d341c092-a43f-404b-c21e-9b5617b9f1f1"
      },
      "execution_count": 3,
      "outputs": [
        {
          "output_type": "display_data",
          "data": {
            "text/plain": [
              "<Figure size 640x480 with 1 Axes>"
            ],
            "image/png": "[encoded data removed]"
          },
          "metadata": {}
        }
      ]
    },
    {
      "cell_type": "code",
      "source": [
        "rotation_bins = pd.cut(data_in['Rotation'], bins=bins, include_lowest=True)\n",
        "average_distance = data_in.groupby(rotation_bins)['Distance'].mean()\n",
        "print(average_distance)\n",
        "\n",
        "average_rotation = data_in.groupby(rotation_bins)['Rotation'].mean()\n",
        "print(average_rotation)"
      ],
      "metadata": {
        "colab": {
          "base_uri": "https://localhost:8080/"
        },
        "id": "Ia6SWh19tYXL",
        "outputId": "dc6ae2b0-713d-43f3-df9f-54bbc6244e8a"
      },
      "execution_count": 4,
      "outputs": [
        {
          "output_type": "stream",
          "name": "stdout",
          "text": [
            "Rotation\n",
            "(-0.001, 15.0]     8.618212\n",
            "(15.0, 30.0]       8.133197\n",
            "(30.0, 45.0]       7.760132\n",
            "(45.0, 60.0]       7.421842\n",
            "(60.0, 75.0]       7.658187\n",
            "(75.0, 90.0]       8.890740\n",
            "(90.0, 105.0]      9.384808\n",
            "(105.0, 120.0]    11.534332\n",
            "(120.0, 135.0]    11.320537\n",
            "(135.0, 150.0]    11.384886\n",
            "(150.0, 165.0]    11.086031\n",
            "(165.0, 180.0]    10.621315\n",
            "Name: Distance, dtype: float64\n",
            "Rotation\n",
            "(-0.001, 15.0]      9.940157\n",
            "(15.0, 30.0]       25.638565\n",
            "(30.0, 45.0]       38.498535\n",
            "(45.0, 60.0]       53.858028\n",
            "(60.0, 75.0]       68.426138\n",
            "(75.0, 90.0]       83.213194\n",
            "(90.0, 105.0]      95.182801\n",
            "(105.0, 120.0]    113.554301\n",
            "(120.0, 135.0]    128.182830\n",
            "(135.0, 150.0]    142.304373\n",
            "(150.0, 165.0]    157.405111\n",
            "(165.0, 180.0]    170.047612\n",
            "Name: Rotation, dtype: float64\n"
          ]
        }
      ]
    },
    {
      "cell_type": "code",
      "execution_count": 5,
      "metadata": {
        "colab": {
          "base_uri": "https://localhost:8080/"
        },
        "id": "wApdUckgEvox",
        "outputId": "368fb4d6-6638-419a-fa07-6f86e780bb3e"
      },
      "outputs": [
        {
          "output_type": "stream",
          "name": "stdout",
          "text": [
            "147\n",
            "<bound method Series.sort_values of Distance      9.746371\n",
            "Rotation    106.548913\n",
            "Delta1       61.787213\n",
            "Delta2       55.033347\n",
            "Delta3       75.974486\n",
            "ALE-258       0.568632\n",
            "ALE-259       0.904483\n",
            "ALE-262      11.311090\n",
            "ALE-263       3.736048\n",
            "ALE-265       0.571503\n",
            "ALE-266       0.914885\n",
            "ALE-267       1.133252\n",
            "ALE-313       0.565096\n",
            "ALE-342       2.530840\n",
            "ALE-344       0.798280\n",
            "ALE-348       1.280089\n",
            "ALE-349       0.700651\n",
            "ALE-352       2.929252\n",
            "ALE-353       1.335719\n",
            "ALE-356       1.851236\n",
            "ALE-404       0.896323\n",
            "ALE-407       2.150347\n",
            "ALE-408       2.185578\n",
            "ALE-411       3.693537\n",
            "ALE-426       0.891767\n",
            "ALE-430       3.134216\n",
            "dtype: float64>\n",
            "26\n"
          ]
        }
      ],
      "source": [
        "data_in[data_in.columns[1]]\n",
        "print(len(cols))\n",
        "alpha = 1\n",
        "beta = 1\n",
        "data2 = pd.DataFrame()\n",
        "\n",
        "data2[\"Distance\"] = data_in[\"Distance\"]\n",
        "data2[\"Rotation\"] = data_in[\"Rotation\"]\n",
        "data2[\"Delta1\"] = data_in[\"Delta1\"]\n",
        "data2[\"Delta2\"] = data_in[\"Delta2\"]\n",
        "data2[\"Delta3\"] = data_in[\"Delta3\"]\n",
        "\n",
        "for i in range(5, 147, 2):\n",
        "  name =cols[i]+cols[i+1]\n",
        "  name = name[:7]\n",
        "  # print(name)\n",
        "  # print(data['cols[i]'])\n",
        "  data2[name] =   beta * data_in[cols[i]] + alpha * data_in[cols[i+1]]\n",
        "\n",
        "# print(data2['ALE-404'])\n",
        "\n",
        " \n",
        "data=data2\n",
        "data=data.loc[:, abs(data).mean() > 0.5]\n",
        "print(abs(data).mean().sort_values)\n",
        "print(len(data.columns))"
      ]
    },
    {
      "cell_type": "code",
      "execution_count": 6,
      "metadata": {
        "colab": {
          "base_uri": "https://localhost:8080/",
          "height": 206
        },
        "id": "ZvZFeAFUSlcZ",
        "outputId": "c8b9ac69-9e7d-4057-fbf8-b67e4a27296d"
      },
      "outputs": [
        {
          "output_type": "execute_result",
          "data": {
            "text/plain": [
              "   Distance  Rotation  Delta1  Delta2  Delta3  ALE-258  ALE-259  ALE-262  \\\n",
              "0     12.04    130.83  -65.55  -69.67   75.56    -0.51    -1.03    -8.83   \n",
              "1     11.69    120.81  -61.06  -60.05   70.92    -0.54    -1.10   -12.05   \n",
              "2     12.14    120.83  -65.34  -65.97   71.19    -0.78    -1.33   -12.95   \n",
              "3     11.63    115.28  -66.69  -67.14   68.38    -0.68    -0.87   -12.94   \n",
              "4     11.80    126.82  -60.80  -54.65   89.31    -0.85    -1.70   -13.49   \n",
              "\n",
              "   ALE-263  ALE-265  ALE-266  ALE-267  ALE-313  ALE-342  ALE-344  \n",
              "0    -3.35     0.17    -0.68    -0.96    -0.33    -3.28    -0.12  \n",
              "1    -2.89     0.86     0.33    -1.34    -0.02    -3.35    -0.54  \n",
              "2    -3.65     0.28     0.34    -1.62     0.17    -2.28    -0.43  \n",
              "3    -4.87     0.57    -1.20    -1.73     0.08    -3.23    -0.09  \n",
              "4    -3.64     1.08    -0.55    -0.99    -0.09    -4.27    -0.56  "
            ],
            "text/html": [
              "\n",
              "  <div id=\"df-ef78b623-8777-43e4-8e1f-1bab11fea4ac\">\n",
              "    <div class=\"colab-df-container\">\n",
              "      <div>\n",
              "<style scoped>\n",
              "    .dataframe tbody tr th:only-of-type {\n",
              "        vertical-align: middle;\n",
              "    }\n",
              "\n",
              "    .dataframe tbody tr th {\n",
              "        vertical-align: top;\n",
              "    }\n",
              "\n",
              "    .dataframe thead th {\n",
              "        text-align: right;\n",
              "    }\n",
              "</style>\n",
              "<table border=\"1\" class=\"dataframe\">\n",
              "  <thead>\n",
              "    <tr style=\"text-align: right;\">\n",
              "      <th></th>\n",
              "      <th>Distance</th>\n",
              "      <th>Rotation</th>\n",
              "      <th>Delta1</th>\n",
              "      <th>Delta2</th>\n",
              "      <th>Delta3</th>\n",
              "      <th>ALE-258</th>\n",
              "      <th>ALE-259</th>\n",
              "      <th>ALE-262</th>\n",
              "      <th>ALE-263</th>\n",
              "      <th>ALE-265</th>\n",
              "      <th>ALE-266</th>\n",
              "      <th>ALE-267</th>\n",
              "      <th>ALE-313</th>\n",
              "      <th>ALE-342</th>\n",
              "      <th>ALE-344</th>\n",
              "    </tr>\n",
              "  </thead>\n",
              "  <tbody>\n",
              "    <tr>\n",
              "      <th>0</th>\n",
              "      <td>12.04</td>\n",
              "      <td>130.83</td>\n",
              "      <td>-65.55</td>\n",
              "      <td>-69.67</td>\n",
              "      <td>75.56</td>\n",
              "      <td>-0.51</td>\n",
              "      <td>-1.03</td>\n",
              "      <td>-8.83</td>\n",
              "      <td>-3.35</td>\n",
              "      <td>0.17</td>\n",
              "      <td>-0.68</td>\n",
              "      <td>-0.96</td>\n",
              "      <td>-0.33</td>\n",
              "      <td>-3.28</td>\n",
              "      <td>-0.12</td>\n",
              "    </tr>\n",
              "    <tr>\n",
              "      <th>1</th>\n",
              "      <td>11.69</td>\n",
              "      <td>120.81</td>\n",
              "      <td>-61.06</td>\n",
              "      <td>-60.05</td>\n",
              "      <td>70.92</td>\n",
              "      <td>-0.54</td>\n",
              "      <td>-1.10</td>\n",
              "      <td>-12.05</td>\n",
              "      <td>-2.89</td>\n",
              "      <td>0.86</td>\n",
              "      <td>0.33</td>\n",
              "      <td>-1.34</td>\n",
              "      <td>-0.02</td>\n",
              "      <td>-3.35</td>\n",
              "      <td>-0.54</td>\n",
              "    </tr>\n",
              "    <tr>\n",
              "      <th>2</th>\n",
              "      <td>12.14</td>\n",
              "      <td>120.83</td>\n",
              "      <td>-65.34</td>\n",
              "      <td>-65.97</td>\n",
              "      <td>71.19</td>\n",
              "      <td>-0.78</td>\n",
              "      <td>-1.33</td>\n",
              "      <td>-12.95</td>\n",
              "      <td>-3.65</td>\n",
              "      <td>0.28</td>\n",
              "      <td>0.34</td>\n",
              "      <td>-1.62</td>\n",
              "      <td>0.17</td>\n",
              "      <td>-2.28</td>\n",
              "      <td>-0.43</td>\n",
              "    </tr>\n",
              "    <tr>\n",
              "      <th>3</th>\n",
              "      <td>11.63</td>\n",
              "      <td>115.28</td>\n",
              "      <td>-66.69</td>\n",
              "      <td>-67.14</td>\n",
              "      <td>68.38</td>\n",
              "      <td>-0.68</td>\n",
              "      <td>-0.87</td>\n",
              "      <td>-12.94</td>\n",
              "      <td>-4.87</td>\n",
              "      <td>0.57</td>\n",
              "      <td>-1.20</td>\n",
              "      <td>-1.73</td>\n",
              "      <td>0.08</td>\n",
              "      <td>-3.23</td>\n",
              "      <td>-0.09</td>\n",
              "    </tr>\n",
              "    <tr>\n",
              "      <th>4</th>\n",
              "      <td>11.80</td>\n",
              "      <td>126.82</td>\n",
              "      <td>-60.80</td>\n",
              "      <td>-54.65</td>\n",
              "      <td>89.31</td>\n",
              "      <td>-0.85</td>\n",
              "      <td>-1.70</td>\n",
              "      <td>-13.49</td>\n",
              "      <td>-3.64</td>\n",
              "      <td>1.08</td>\n",
              "      <td>-0.55</td>\n",
              "      <td>-0.99</td>\n",
              "      <td>-0.09</td>\n",
              "      <td>-4.27</td>\n",
              "      <td>-0.56</td>\n",
              "    </tr>\n",
              "  </tbody>\n",
              "</table>\n",
              "</div>\n",
              "      <button class=\"colab-df-convert\" onclick=\"convertToInteractive('df-ef78b623-8777-43e4-8e1f-1bab11fea4ac')\"\n",
              "              title=\"Convert this dataframe to an interactive table.\"\n",
              "              style=\"display:none;\">\n",
              "        \n",
              "  <svg xmlns=\"http://www.w3.org/2000/svg\" height=\"24px\"viewBox=\"0 0 24 24\"\n",
              "       width=\"24px\">\n",
              "    <path d=\"M0 0h24v24H0V0z\" fill=\"none\"/>\n",
              "    <path d=\"M18.56 5.44l.94 2.06.94-2.06 2.06-.94-2.06-.94-.94-2.06-.94 2.06-2.06.94zm-11 1L8.5 8.5l.94-2.06 2.06-.94-2.06-.94L8.5 2.5l-.94 2.06-2.06.94zm10 10l.94 2.06.94-2.06 2.06-.94-2.06-.94-.94-2.06-.94 2.06-2.06.94z\"/><path d=\"M17.41 7.96l-1.37-1.37c-.4-.4-.92-.59-1.43-.59-.52 0-1.04.2-1.43.59L10.3 9.45l-7.72 7.72c-.78.78-.78 2.05 0 2.83L4 21.41c.39.39.9.59 1.41.59.51 0 1.02-.2 1.41-.59l7.78-7.78 2.81-2.81c.8-.78.8-2.07 0-2.86zM5.41 20L4 18.59l7.72-7.72 1.47 1.35L5.41 20z\"/>\n",
              "  </svg>\n",
              "      </button>\n",
              "      \n",
              "  <style>\n",
              "    .colab-df-container {\n",
              "      display:flex;\n",
              "      flex-wrap:wrap;\n",
              "      gap: 12px;\n",
              "    }\n",
              "\n",
              "    .colab-df-convert {\n",
              "      background-color: #E8F0FE;\n",
              "      border: none;\n",
              "      border-radius: 50%;\n",
              "      cursor: pointer;\n",
              "      display: none;\n",
              "      fill: #1967D2;\n",
              "      height: 32px;\n",
              "      padding: 0 0 0 0;\n",
              "      width: 32px;\n",
              "    }\n",
              "\n",
              "    .colab-df-convert:hover {\n",
              "      background-color: #E2EBFA;\n",
              "      box-shadow: 0px 1px 2px rgba(60, 64, 67, 0.3), 0px 1px 3px 1px rgba(60, 64, 67, 0.15);\n",
              "      fill: #174EA6;\n",
              "    }\n",
              "\n",
              "    [theme=dark] .colab-df-convert {\n",
              "      background-color: #3B4455;\n",
              "      fill: #D2E3FC;\n",
              "    }\n",
              "\n",
              "    [theme=dark] .colab-df-convert:hover {\n",
              "      background-color: #434B5C;\n",
              "      box-shadow: 0px 1px 3px 1px rgba(0, 0, 0, 0.15);\n",
              "      filter: drop-shadow(0px 1px 2px rgba(0, 0, 0, 0.3));\n",
              "      fill: #FFFFFF;\n",
              "    }\n",
              "  </style>\n",
              "\n",
              "      <script>\n",
              "        const buttonEl =\n",
              "          document.querySelector('#df-ef78b623-8777-43e4-8e1f-1bab11fea4ac button.colab-df-convert');\n",
              "        buttonEl.style.display =\n",
              "          google.colab.kernel.accessAllowed ? 'block' : 'none';\n",
              "\n",
              "        async function convertToInteractive(key) {\n",
              "          const element = document.querySelector('#df-ef78b623-8777-43e4-8e1f-1bab11fea4ac');\n",
              "          const dataTable =\n",
              "            await google.colab.kernel.invokeFunction('convertToInteractive',\n",
              "                                                     [key], {});\n",
              "          if (!dataTable) return;\n",
              "\n",
              "          const docLinkHtml = 'Like what you see? Visit the ' +\n",
              "            '<a target=\"_blank\" href=https://colab.research.google.com/notebooks/data_table.ipynb>data table notebook</a>'\n",
              "            + ' to learn more about interactive tables.';\n",
              "          element.innerHTML = '';\n",
              "          dataTable['output_type'] = 'display_data';\n",
              "          await google.colab.output.renderOutput(dataTable, element);\n",
              "          const docLink = document.createElement('div');\n",
              "          docLink.innerHTML = docLinkHtml;\n",
              "          element.appendChild(docLink);\n",
              "        }\n",
              "      </script>\n",
              "    </div>\n",
              "  </div>\n",
              "  "
            ]
          },
          "metadata": {},
          "execution_count": 6
        }
      ],
      "source": [
        "data.round(2).head().T.head(15).T"
      ]
    },
    {
      "cell_type": "code",
      "execution_count": 7,
      "metadata": {
        "colab": {
          "base_uri": "https://localhost:8080/"
        },
        "id": "86K1qN0zldCq",
        "outputId": "edc9e3b9-aaa5-4a97-eee5-3a058854841b"
      },
      "outputs": [
        {
          "output_type": "stream",
          "name": "stdout",
          "text": [
            "{'ALE-258': -0.516851852, 'ALE-259': -0.7182844960000001, 'ALE-262': -7.599655711999999, 'ALE-263': -3.7331951359999995, 'ALE-265': 0.4827912040000001, 'ALE-266': -0.6650498359999999, 'ALE-267': -1.1101111399999999, 'ALE-313': -0.39847442800000005, 'ALE-342': -2.5220756040000003, 'ALE-344': -0.6958017200000001, 'ALE-348': -1.213722496, 'ALE-349': -0.516067364, 'ALE-352': -2.880695712, 'ALE-353': -1.2739954279999999, 'ALE-356': -1.784183008, 'ALE-404': -0.8452803, 'ALE-407': -2.0519912880000004, 'ALE-408': -2.166348208, 'ALE-411': -3.5917717039999992, 'ALE-426': -0.6785452919999999, 'ALE-430': -1.9939908000000002}\n",
            "{'ALE-262': -7.599655711999999, 'ALE-263': -3.7331951359999995, 'ALE-411': -3.5917717039999992, 'ALE-352': -2.880695712, 'ALE-342': -2.5220756040000003, 'ALE-408': -2.166348208, 'ALE-407': -2.0519912880000004, 'ALE-430': -1.9939908000000002, 'ALE-356': -1.784183008, 'ALE-353': -1.2739954279999999, 'ALE-348': -1.213722496, 'ALE-267': -1.1101111399999999, 'ALE-404': -0.8452803, 'ALE-259': -0.7182844960000001, 'ALE-344': -0.6958017200000001, 'ALE-426': -0.6785452919999999, 'ALE-266': -0.6650498359999999, 'ALE-258': -0.516851852, 'ALE-349': -0.516067364, 'ALE-313': -0.39847442800000005, 'ALE-265': 0.4827912040000001}\n",
            "Top 10 mean values:\n",
            "ALE-262 -7.599655711999999\n",
            "ALE-263 -3.7331951359999995\n",
            "ALE-411 -3.5917717039999992\n",
            "ALE-352 -2.880695712\n",
            "ALE-342 -2.5220756040000003\n",
            "ALE-408 -2.166348208\n",
            "ALE-407 -2.0519912880000004\n",
            "ALE-430 -1.9939908000000002\n",
            "ALE-356 -1.784183008\n",
            "ALE-353 -1.2739954279999999\n",
            "ALE-348 -1.213722496\n",
            "ALE-267 -1.1101111399999999\n",
            "ALE-404 -0.8452803\n",
            "ALE-259 -0.7182844960000001\n",
            "ALE-344 -0.6958017200000001\n",
            "ALE-426 -0.6785452919999999\n",
            "ALE-266 -0.6650498359999999\n",
            "ALE-258 -0.516851852\n",
            "ALE-349 -0.516067364\n",
            "ALE-313 -0.39847442800000005\n",
            "ALE-265 0.4827912040000001\n"
          ]
        }
      ],
      "source": [
        "import collections\n",
        "\n",
        "mean_values = {}\n",
        "for i in range(5, len(data.columns), 1):\n",
        "    mean_values[data.columns[i]] = data.iloc[:, i].mean()\n",
        "\n",
        "print(mean_values)\n",
        "sorted_mean_values = dict(sorted(mean_values.items(), key=lambda item: item[1]))\n",
        "print(sorted_mean_values)\n",
        "print(\"Top 10 mean values:\")\n",
        "for key, value in list(sorted_mean_values.items()):\n",
        "    print(key, value)"
      ]
    },
    {
      "cell_type": "markdown",
      "metadata": {
        "id": "8lGpIy7IXOfE"
      },
      "source": [
        "##Statistical Coefficient Calculation Based Methods"
      ]
    },
    {
      "cell_type": "markdown",
      "metadata": {
        "id": "VsVRyOyoW-DV"
      },
      "source": [
        "### Pearson's Correlation Coefficient"
      ]
    },
    {
      "cell_type": "code",
      "execution_count": 8,
      "metadata": {
        "colab": {
          "base_uri": "https://localhost:8080/"
        },
        "id": "mOVG565TZUZR",
        "outputId": "43d54c21-b8b7-46cb-cd18-5680361dd91e"
      },
      "outputs": [
        {
          "output_type": "stream",
          "name": "stdout",
          "text": [
            "          Distance  Rotation    Delta1    Delta2    Delta3   ALE-258  \\\n",
            "Distance  1.000000  0.615817 -0.203699 -0.155393 -0.244811 -0.335618   \n",
            "Rotation  0.615817  1.000000  0.433676  0.080260  0.286797 -0.308719   \n",
            "Delta1   -0.203699  0.433676  1.000000  0.115905  0.387193 -0.033714   \n",
            "Delta2   -0.155393  0.080260  0.115905  1.000000  0.147622  0.249889   \n",
            "Delta3   -0.244811  0.286797  0.387193  0.147622  1.000000 -0.096390   \n",
            "ALE-258  -0.335618 -0.308719 -0.033714  0.249889 -0.096390  1.000000   \n",
            "ALE-259  -0.242440 -0.408316 -0.275119  0.111477 -0.214637  0.587702   \n",
            "ALE-262  -0.034125  0.116486  0.148002  0.297074  0.052757  0.759909   \n",
            "ALE-263  -0.122838 -0.119975 -0.025571  0.010446  0.041691  0.277559   \n",
            "ALE-265  -0.160586 -0.121346 -0.003876 -0.172887  0.170382 -0.592926   \n",
            "ALE-266  -0.259925 -0.465737 -0.141197 -0.072142  0.056878  0.068641   \n",
            "ALE-267  -0.105231 -0.021500  0.095551 -0.059819  0.312325 -0.187815   \n",
            "ALE-313  -0.145016  0.159468  0.247354  0.081094  0.233061 -0.232384   \n",
            "ALE-342  -0.362863 -0.569932 -0.329152 -0.066808 -0.263483  0.156995   \n",
            "ALE-344  -0.034882  0.252400  0.190385  0.076290  0.265179 -0.156029   \n",
            "ALE-348   0.060631  0.320321  0.180539  0.013599  0.216961 -0.351516   \n",
            "ALE-349   0.049388  0.250590  0.199102 -0.001158  0.107661 -0.231201   \n",
            "ALE-352   0.175266  0.461541  0.319597  0.048189  0.189542 -0.331104   \n",
            "ALE-353   0.377415  0.525830  0.242466  0.006164  0.110636 -0.269647   \n",
            "ALE-356  -0.000576  0.114811  0.212844  0.022559  0.195248  0.141909   \n",
            "ALE-404   0.404342  0.355595  0.166148 -0.052508  0.023611  0.016549   \n",
            "ALE-407  -0.174052 -0.520287 -0.311265 -0.195070 -0.284998  0.074357   \n",
            "ALE-408   0.637932  0.500175 -0.013923 -0.142522  0.026719 -0.370673   \n",
            "ALE-411   0.435290  0.392832  0.041022 -0.089189 -0.017872 -0.284881   \n",
            "ALE-426  -0.007921 -0.263820 -0.253503 -0.251634 -0.178256 -0.319876   \n",
            "ALE-430   0.104476  0.197559  0.189341  0.193063 -0.003543  0.509667   \n",
            "\n",
            "           ALE-259   ALE-262   ALE-263   ALE-265  ...   ALE-349   ALE-352  \\\n",
            "Distance -0.242440 -0.034125 -0.122838 -0.160586  ...  0.049388  0.175266   \n",
            "Rotation -0.408316  0.116486 -0.119975 -0.121346  ...  0.250590  0.461541   \n",
            "Delta1   -0.275119  0.148002 -0.025571 -0.003876  ...  0.199102  0.319597   \n",
            "Delta2    0.111477  0.297074  0.010446 -0.172887  ... -0.001158  0.048189   \n",
            "Delta3   -0.214637  0.052757  0.041691  0.170382  ...  0.107661  0.189542   \n",
            "ALE-258   0.587702  0.759909  0.277559 -0.592926  ... -0.231201 -0.331104   \n",
            "ALE-259   1.000000  0.372716 -0.183743 -0.216127  ... -0.174718 -0.381467   \n",
            "ALE-262   0.372716  1.000000  0.293514 -0.770954  ... -0.178275 -0.149744   \n",
            "ALE-263  -0.183743  0.293514  1.000000 -0.456273  ... -0.315313 -0.071888   \n",
            "ALE-265  -0.216127 -0.770954 -0.456273  1.000000  ...  0.190462  0.075836   \n",
            "ALE-266   0.051832 -0.113788  0.044132  0.246437  ... -0.145291 -0.345401   \n",
            "ALE-267  -0.338028 -0.127669  0.400974  0.131865  ... -0.164841  0.054988   \n",
            "ALE-313  -0.259460 -0.215066 -0.083046  0.245451  ...  0.137555  0.582936   \n",
            "ALE-342   0.459284 -0.191571 -0.145713  0.186394  ... -0.090548 -0.302262   \n",
            "ALE-344   0.037123 -0.076277 -0.231709  0.236068  ...  0.261069 -0.076607   \n",
            "ALE-348  -0.192135 -0.291429 -0.193367  0.340719  ...  0.368540  0.479976   \n",
            "ALE-349  -0.174718 -0.178275 -0.315313  0.190462  ...  1.000000  0.308531   \n",
            "ALE-352  -0.381467 -0.149744 -0.071888  0.075836  ...  0.308531  1.000000   \n",
            "ALE-353  -0.251744  0.006061 -0.298861  0.032538  ...  0.176288  0.397092   \n",
            "ALE-356  -0.306329  0.311990  0.516918 -0.370701  ... -0.105280  0.091555   \n",
            "ALE-404  -0.279887  0.223184  0.153132 -0.329300  ... -0.126980  0.006493   \n",
            "ALE-407  -0.069670 -0.218259  0.352653  0.030362  ... -0.173045 -0.350426   \n",
            "ALE-408  -0.116639 -0.116347 -0.418360  0.105110  ...  0.234871  0.232295   \n",
            "ALE-411  -0.026857 -0.086238 -0.474853  0.098001  ...  0.292295  0.109936   \n",
            "ALE-426  -0.025769 -0.511946 -0.186803  0.409462  ...  0.009731 -0.112742   \n",
            "ALE-430  -0.046748  0.726492  0.409282 -0.692642  ... -0.146628 -0.082395   \n",
            "\n",
            "           ALE-353   ALE-356   ALE-404   ALE-407   ALE-408   ALE-411  \\\n",
            "Distance  0.377415 -0.000576  0.404342 -0.174052  0.637932  0.435290   \n",
            "Rotation  0.525830  0.114811  0.355595 -0.520287  0.500175  0.392832   \n",
            "Delta1    0.242466  0.212844  0.166148 -0.311265 -0.013923  0.041022   \n",
            "Delta2    0.006164  0.022559 -0.052508 -0.195070 -0.142522 -0.089189   \n",
            "Delta3    0.110636  0.195248  0.023611 -0.284998  0.026719 -0.017872   \n",
            "ALE-258  -0.269647  0.141909  0.016549  0.074357 -0.370673 -0.284881   \n",
            "ALE-259  -0.251744 -0.306329 -0.279887 -0.069670 -0.116639 -0.026857   \n",
            "ALE-262   0.006061  0.311990  0.223184 -0.218259 -0.116347 -0.086238   \n",
            "ALE-263  -0.298861  0.516918  0.153132  0.352653 -0.418360 -0.474853   \n",
            "ALE-265   0.032538 -0.370701 -0.329300  0.030362  0.105110  0.098001   \n",
            "ALE-266  -0.302821  0.049548  0.087984  0.353311 -0.219798 -0.252291   \n",
            "ALE-267  -0.113645  0.243903  0.025089  0.013952 -0.055110 -0.235369   \n",
            "ALE-313   0.138375 -0.087034 -0.177724 -0.223031 -0.053444 -0.121384   \n",
            "ALE-342  -0.341465 -0.335005 -0.436154  0.229832 -0.214841 -0.079092   \n",
            "ALE-344   0.046845 -0.070788 -0.186801 -0.175619  0.117168  0.261233   \n",
            "ALE-348   0.134162 -0.206419 -0.189809 -0.294235  0.150614  0.072956   \n",
            "ALE-349   0.176288 -0.105280 -0.126980 -0.173045  0.234871  0.292295   \n",
            "ALE-352   0.397092  0.091555  0.006493 -0.350426  0.232295  0.109936   \n",
            "ALE-353   1.000000  0.096559  0.157494 -0.391420  0.462446  0.409120   \n",
            "ALE-356   0.096559  1.000000  0.292968  0.120940 -0.093214 -0.125684   \n",
            "ALE-404   0.157494  0.292968  1.000000 -0.064883  0.188358 -0.006565   \n",
            "ALE-407  -0.391420  0.120940 -0.064883  1.000000 -0.432642 -0.324327   \n",
            "ALE-408   0.462446 -0.093214  0.188358 -0.432642  1.000000  0.553521   \n",
            "ALE-411   0.409120 -0.125684 -0.006565 -0.324327  0.553521  1.000000   \n",
            "ALE-426  -0.163363 -0.308666 -0.182327  0.308032 -0.041728  0.073561   \n",
            "ALE-430   0.065506  0.547481  0.410168  0.022176 -0.157312 -0.114853   \n",
            "\n",
            "           ALE-426   ALE-430  \n",
            "Distance -0.007921  0.104476  \n",
            "Rotation -0.263820  0.197559  \n",
            "Delta1   -0.253503  0.189341  \n",
            "Delta2   -0.251634  0.193063  \n",
            "Delta3   -0.178256 -0.003543  \n",
            "ALE-258  -0.319876  0.509667  \n",
            "ALE-259  -0.025769 -0.046748  \n",
            "ALE-262  -0.511946  0.726492  \n",
            "ALE-263  -0.186803  0.409282  \n",
            "ALE-265   0.409462 -0.692642  \n",
            "ALE-266   0.153361 -0.055886  \n",
            "ALE-267  -0.095753 -0.031231  \n",
            "ALE-313  -0.012342 -0.177037  \n",
            "ALE-342   0.278777 -0.355549  \n",
            "ALE-344  -0.001183 -0.125644  \n",
            "ALE-348   0.047331 -0.343777  \n",
            "ALE-349   0.009731 -0.146628  \n",
            "ALE-352  -0.112742 -0.082395  \n",
            "ALE-353  -0.163363  0.065506  \n",
            "ALE-356  -0.308666  0.547481  \n",
            "ALE-404  -0.182327  0.410168  \n",
            "ALE-407   0.308032  0.022176  \n",
            "ALE-408  -0.041728 -0.157312  \n",
            "ALE-411   0.073561 -0.114853  \n",
            "ALE-426   1.000000 -0.464869  \n",
            "ALE-430  -0.464869  1.000000  \n",
            "\n",
            "[26 rows x 26 columns]\n"
          ]
        }
      ],
      "source": [
        "correlations = data.corr()\n",
        "print(correlations)"
      ]
    },
    {
      "cell_type": "code",
      "execution_count": 9,
      "metadata": {
        "colab": {
          "base_uri": "https://localhost:8080/",
          "height": 621
        },
        "id": "4lkhHnNJYPBw",
        "outputId": "bcf06f72-9366-4134-8e5b-231e581c9f2d"
      },
      "outputs": [
        {
          "output_type": "stream",
          "name": "stdout",
          "text": [
            "Distance    1.000000\n",
            "ALE-408     0.637932\n",
            "Rotation    0.615817\n",
            "ALE-411     0.435290\n",
            "ALE-404     0.404342\n",
            "ALE-353     0.377415\n",
            "ALE-352     0.175266\n",
            "ALE-430     0.104476\n",
            "ALE-348     0.060631\n",
            "ALE-349     0.049388\n",
            "Name: Distance, dtype: float64\n"
          ]
        },
        {
          "output_type": "display_data",
          "data": {
            "text/plain": [
              "<Figure size 640x480 with 1 Axes>"
            ],
            "image/png": "[encoded data removed]"
          },
          "metadata": {}
        }
      ],
      "source": [
        "import matplotlib.pyplot as plt\n",
        "print(correlations[\"Distance\"].sort_values(ascending=False).head(10))\n",
        "plt.bar([x for x in range(len(correlations[\"Distance\"]))], correlations[\"Distance\"])\n",
        "plt.show()"
      ]
    },
    {
      "cell_type": "code",
      "execution_count": 10,
      "metadata": {
        "colab": {
          "base_uri": "https://localhost:8080/",
          "height": 482
        },
        "id": "VV2L0x_jYx21",
        "outputId": "d0207058-58b8-4cdf-b503-ea8e0f78598b"
      },
      "outputs": [
        {
          "output_type": "display_data",
          "data": {
            "text/plain": [
              "<Figure size 640x480 with 2 Axes>"
            ],
            "image/png": "[encoded data removed]"
          },
          "metadata": {}
        }
      ],
      "source": [
        "%matplotlib inline\n",
        "import seaborn as sns\n",
        "import matplotlib.pyplot as plt\n",
        "\n",
        "sns.heatmap(correlations)\n",
        "\n",
        "plt.show()\n"
      ]
    },
    {
      "cell_type": "markdown",
      "metadata": {
        "id": "ajEREeR_XS2E"
      },
      "source": [
        "###Spearman Correlation Coefficient"
      ]
    },
    {
      "cell_type": "code",
      "execution_count": 11,
      "metadata": {
        "colab": {
          "base_uri": "https://localhost:8080/"
        },
        "id": "ZLjDgdQGBsCr",
        "outputId": "9adda648-42c6-423a-daf7-608615a4bc65"
      },
      "outputs": [
        {
          "output_type": "stream",
          "name": "stdout",
          "text": [
            "          Distance  Rotation    Delta1    Delta2    Delta3   ALE-258  \\\n",
            "Distance  1.000000  0.634892 -0.208967 -0.215135 -0.191979 -0.271442   \n",
            "Rotation  0.634892  1.000000  0.395095 -0.015867  0.285429 -0.323552   \n",
            "Delta1   -0.208967  0.395095  1.000000  0.080084  0.376448 -0.040163   \n",
            "Delta2   -0.215135 -0.015867  0.080084  1.000000  0.191901  0.209574   \n",
            "Delta3   -0.191979  0.285429  0.376448  0.191901  1.000000 -0.065088   \n",
            "ALE-258  -0.271442 -0.323552 -0.040163  0.209574 -0.065088  1.000000   \n",
            "ALE-259  -0.182700 -0.387374 -0.312501  0.124925 -0.250617  0.496305   \n",
            "ALE-262   0.031855  0.062340  0.093100  0.167440  0.105801  0.752851   \n",
            "ALE-263  -0.095321 -0.165853 -0.011028 -0.032433  0.137863  0.300299   \n",
            "ALE-265  -0.213774 -0.095721  0.030007 -0.036283  0.072902 -0.609934   \n",
            "ALE-266  -0.228491 -0.472941 -0.177753 -0.048629 -0.088082  0.060446   \n",
            "ALE-267  -0.137398 -0.029666  0.146011  0.005270  0.429889 -0.164483   \n",
            "ALE-313  -0.068185  0.091266  0.119410 -0.016355  0.014669 -0.257441   \n",
            "ALE-342  -0.392357 -0.561715 -0.314344 -0.003963 -0.279485  0.117339   \n",
            "ALE-344  -0.165629  0.060760  0.196597  0.032224  0.129338 -0.092703   \n",
            "ALE-348   0.070156  0.304739  0.122905  0.000034  0.134671 -0.420312   \n",
            "ALE-349   0.122331  0.332751  0.235600 -0.024390 -0.030034 -0.216518   \n",
            "ALE-352   0.234046  0.494704  0.301708 -0.031538  0.164003 -0.340299   \n",
            "ALE-353   0.370672  0.604761  0.316755 -0.013911  0.138936 -0.234153   \n",
            "ALE-356  -0.004181  0.034904  0.171996 -0.037153  0.339926  0.086379   \n",
            "ALE-404   0.441163  0.361146  0.132507 -0.120219  0.030123  0.051263   \n",
            "ALE-407  -0.186425 -0.516879 -0.237883 -0.150961 -0.273425  0.168427   \n",
            "ALE-408   0.564582  0.492005  0.004225 -0.099042  0.024637 -0.323490   \n",
            "ALE-411   0.413493  0.343646  0.003312 -0.192644 -0.148324 -0.243380   \n",
            "ALE-426   0.000650 -0.163072 -0.213708 -0.109075 -0.240062 -0.359955   \n",
            "ALE-430   0.077899  0.086548  0.140854  0.098204  0.079864  0.520366   \n",
            "\n",
            "           ALE-259   ALE-262   ALE-263   ALE-265  ...   ALE-349   ALE-352  \\\n",
            "Distance -0.182700  0.031855 -0.095321 -0.213774  ...  0.122331  0.234046   \n",
            "Rotation -0.387374  0.062340 -0.165853 -0.095721  ...  0.332751  0.494704   \n",
            "Delta1   -0.312501  0.093100 -0.011028  0.030007  ...  0.235600  0.301708   \n",
            "Delta2    0.124925  0.167440 -0.032433 -0.036283  ... -0.024390 -0.031538   \n",
            "Delta3   -0.250617  0.105801  0.137863  0.072902  ... -0.030034  0.164003   \n",
            "ALE-258   0.496305  0.752851  0.300299 -0.609934  ... -0.216518 -0.340299   \n",
            "ALE-259   1.000000  0.350492 -0.224848 -0.219859  ... -0.210275 -0.385960   \n",
            "ALE-262   0.350492  1.000000  0.291246 -0.784886  ... -0.148959 -0.135115   \n",
            "ALE-263  -0.224848  0.291246  1.000000 -0.417185  ... -0.267347 -0.034759   \n",
            "ALE-265  -0.219859 -0.784886 -0.417185  1.000000  ...  0.111366  0.016013   \n",
            "ALE-266   0.018387 -0.169696  0.131920  0.221602  ... -0.191390 -0.334673   \n",
            "ALE-267  -0.441295 -0.138330  0.507457  0.109103  ... -0.214155  0.155234   \n",
            "ALE-313  -0.131669 -0.286584 -0.282188  0.252587  ...  0.294900  0.374478   \n",
            "ALE-342   0.486846 -0.170279 -0.152339  0.188748  ... -0.151274 -0.329024   \n",
            "ALE-344  -0.056933 -0.126027 -0.154643  0.236545  ...  0.199812 -0.090567   \n",
            "ALE-348  -0.157795 -0.375822 -0.228613  0.364812  ...  0.414306  0.436049   \n",
            "ALE-349  -0.210275 -0.148959 -0.267347  0.111366  ...  1.000000  0.402515   \n",
            "ALE-352  -0.385960 -0.135115 -0.034759  0.016013  ...  0.402515  1.000000   \n",
            "ALE-353  -0.290521  0.057276 -0.276909 -0.013599  ...  0.263679  0.435153   \n",
            "ALE-356  -0.325288  0.205279  0.552105 -0.241497  ... -0.199008  0.184864   \n",
            "ALE-404  -0.279899  0.237663  0.164151 -0.353928  ... -0.072164  0.074759   \n",
            "ALE-407  -0.078966 -0.091302  0.417597 -0.022880  ... -0.182806 -0.324373   \n",
            "ALE-408  -0.091521 -0.071393 -0.377330  0.058527  ...  0.219159  0.261389   \n",
            "ALE-411   0.035308 -0.047464 -0.423189  0.042210  ...  0.253713  0.141396   \n",
            "ALE-426   0.025869 -0.498674 -0.294368  0.426418  ...  0.039233 -0.101875   \n",
            "ALE-430   0.029070  0.678105  0.229428 -0.547339  ... -0.131556 -0.129278   \n",
            "\n",
            "           ALE-353   ALE-356   ALE-404   ALE-407   ALE-408   ALE-411  \\\n",
            "Distance  0.370672 -0.004181  0.441163 -0.186425  0.564582  0.413493   \n",
            "Rotation  0.604761  0.034904  0.361146 -0.516879  0.492005  0.343646   \n",
            "Delta1    0.316755  0.171996  0.132507 -0.237883  0.004225  0.003312   \n",
            "Delta2   -0.013911 -0.037153 -0.120219 -0.150961 -0.099042 -0.192644   \n",
            "Delta3    0.138936  0.339926  0.030123 -0.273425  0.024637 -0.148324   \n",
            "ALE-258  -0.234153  0.086379  0.051263  0.168427 -0.323490 -0.243380   \n",
            "ALE-259  -0.290521 -0.325288 -0.279899 -0.078966 -0.091521  0.035308   \n",
            "ALE-262   0.057276  0.205279  0.237663 -0.091302 -0.071393 -0.047464   \n",
            "ALE-263  -0.276909  0.552105  0.164151  0.417597 -0.377330 -0.423189   \n",
            "ALE-265  -0.013599 -0.241497 -0.353928 -0.022880  0.058527  0.042210   \n",
            "ALE-266  -0.370944  0.124604  0.026514  0.445652 -0.212072 -0.213378   \n",
            "ALE-267  -0.087171  0.545757  0.104082  0.109660 -0.129794 -0.354926   \n",
            "ALE-313   0.144289 -0.160208 -0.165208 -0.209914  0.092554  0.082852   \n",
            "ALE-342  -0.411851 -0.310694 -0.448474  0.168666 -0.221205 -0.066792   \n",
            "ALE-344   0.025607 -0.135336 -0.196075 -0.065193  0.031399  0.089977   \n",
            "ALE-348   0.096664 -0.175780 -0.228355 -0.325108  0.142231  0.070634   \n",
            "ALE-349   0.263679 -0.199008 -0.072164 -0.182806  0.219159  0.253713   \n",
            "ALE-352   0.435153  0.184864  0.074759 -0.324373  0.261389  0.141396   \n",
            "ALE-353   1.000000  0.079763  0.235725 -0.395284  0.430412  0.382697   \n",
            "ALE-356   0.079763  1.000000  0.271537  0.196585 -0.071619 -0.190244   \n",
            "ALE-404   0.235725  0.271537  1.000000 -0.006774  0.181766  0.005678   \n",
            "ALE-407  -0.395284  0.196585 -0.006774  1.000000 -0.387957 -0.248878   \n",
            "ALE-408   0.430412 -0.071619  0.181766 -0.387957  1.000000  0.489864   \n",
            "ALE-411   0.382697 -0.190244  0.005678 -0.248878  0.489864  1.000000   \n",
            "ALE-426  -0.159418 -0.342219 -0.210567  0.060464  0.020460  0.167938   \n",
            "ALE-430   0.159503  0.251459  0.356680  0.056841 -0.068671 -0.040384   \n",
            "\n",
            "           ALE-426   ALE-430  \n",
            "Distance  0.000650  0.077899  \n",
            "Rotation -0.163072  0.086548  \n",
            "Delta1   -0.213708  0.140854  \n",
            "Delta2   -0.109075  0.098204  \n",
            "Delta3   -0.240062  0.079864  \n",
            "ALE-258  -0.359955  0.520366  \n",
            "ALE-259   0.025869  0.029070  \n",
            "ALE-262  -0.498674  0.678105  \n",
            "ALE-263  -0.294368  0.229428  \n",
            "ALE-265   0.426418 -0.547339  \n",
            "ALE-266   0.121866 -0.054561  \n",
            "ALE-267  -0.148271 -0.047069  \n",
            "ALE-313   0.123375 -0.221702  \n",
            "ALE-342   0.270278 -0.283795  \n",
            "ALE-344   0.034636 -0.074034  \n",
            "ALE-348   0.160820 -0.427146  \n",
            "ALE-349   0.039233 -0.131556  \n",
            "ALE-352  -0.101875 -0.129278  \n",
            "ALE-353  -0.159418  0.159503  \n",
            "ALE-356  -0.342219  0.251459  \n",
            "ALE-404  -0.210567  0.356680  \n",
            "ALE-407   0.060464  0.056841  \n",
            "ALE-408   0.020460 -0.068671  \n",
            "ALE-411   0.167938 -0.040384  \n",
            "ALE-426   1.000000 -0.452298  \n",
            "ALE-430  -0.452298  1.000000  \n",
            "\n",
            "[26 rows x 26 columns]\n"
          ]
        }
      ],
      "source": [
        "spearman_coeff = data.corr(method=\"spearman\")\n",
        "print(spearman_coeff)"
      ]
    },
    {
      "cell_type": "code",
      "execution_count": 12,
      "metadata": {
        "colab": {
          "base_uri": "https://localhost:8080/",
          "height": 621
        },
        "id": "OCsG49AfChBT",
        "outputId": "4222d9dd-eaa1-4094-fc72-9d022465c691"
      },
      "outputs": [
        {
          "output_type": "stream",
          "name": "stdout",
          "text": [
            "Distance    1.000000\n",
            "Rotation    0.634892\n",
            "ALE-408     0.564582\n",
            "ALE-404     0.441163\n",
            "ALE-411     0.413493\n",
            "ALE-353     0.370672\n",
            "ALE-352     0.234046\n",
            "ALE-349     0.122331\n",
            "ALE-430     0.077899\n",
            "ALE-348     0.070156\n",
            "Name: Distance, dtype: float64\n"
          ]
        },
        {
          "output_type": "display_data",
          "data": {
            "text/plain": [
              "<Figure size 640x480 with 1 Axes>"
            ],
            "image/png": "[encoded data removed]"
          },
          "metadata": {}
        }
      ],
      "source": [
        "print(spearman_coeff[\"Distance\"].sort_values(ascending=False).head(10))\n",
        "plt.bar([x for x in range(len(correlations[\"Distance\"]))], correlations[\"Distance\"])\n",
        "plt.show()"
      ]
    },
    {
      "cell_type": "code",
      "execution_count": 13,
      "metadata": {
        "colab": {
          "base_uri": "https://localhost:8080/",
          "height": 482
        },
        "id": "qSYiJsScDcig",
        "outputId": "7b1ea316-85f4-4f25-cf64-6f8d468ae71a"
      },
      "outputs": [
        {
          "output_type": "display_data",
          "data": {
            "text/plain": [
              "<Figure size 640x480 with 2 Axes>"
            ],
            "image/png": "[encoded data removed]"
          },
          "metadata": {}
        }
      ],
      "source": [
        "sns.heatmap(spearman_coeff)\n",
        "\n",
        "plt.show()"
      ]
    },
    {
      "cell_type": "markdown",
      "metadata": {
        "id": "W-s1JyScXY-d"
      },
      "source": [
        "## ML Methods"
      ]
    },
    {
      "cell_type": "markdown",
      "metadata": {
        "id": "vgl1P_ama1ZX"
      },
      "source": [
        "###Dataset Preparation"
      ]
    },
    {
      "cell_type": "code",
      "execution_count": 14,
      "metadata": {
        "colab": {
          "base_uri": "https://localhost:8080/"
        },
        "id": "8dMugFgVa3sd",
        "outputId": "fc804ce9-a387-487f-f386-f5a8743bc503"
      },
      "outputs": [
        {
          "output_type": "stream",
          "name": "stdout",
          "text": [
            "1.2.2\n"
          ]
        }
      ],
      "source": [
        "import sklearn\n",
        "print(sklearn.__version__)"
      ]
    },
    {
      "cell_type": "code",
      "execution_count": 15,
      "metadata": {
        "colab": {
          "base_uri": "https://localhost:8080/"
        },
        "id": "vKQ48Yaxa9Ta",
        "outputId": "3f9bff28-e88d-499d-986f-ffaeceb284c0"
      },
      "outputs": [
        {
          "output_type": "stream",
          "name": "stdout",
          "text": [
            "       ALE-258  ALE-259  ALE-262  ALE-263  ALE-265  ALE-266  ALE-267  ALE-313  \\\n",
            "0      -0.5112  -1.0304  -8.8296  -3.3530   0.1698  -0.6806  -0.9575  -0.3329   \n",
            "1      -0.5364  -1.0967 -12.0515  -2.8857   0.8556   0.3305  -1.3380  -0.0194   \n",
            "2      -0.7826  -1.3296 -12.9496  -3.6451   0.2803   0.3368  -1.6178   0.1656   \n",
            "3      -0.6842  -0.8670 -12.9432  -4.8728   0.5734  -1.1998  -1.7329   0.0784   \n",
            "4      -0.8496  -1.7037 -13.4942  -3.6394   1.0845  -0.5496  -0.9922  -0.0855   \n",
            "...        ...      ...      ...      ...      ...      ...      ...      ...   \n",
            "24995   0.0000   0.3119  -1.1664  -3.0856   0.0811   0.0008  -1.7253  -0.6621   \n",
            "24996   0.0060   0.2339   0.4957  -2.8920   0.1667  -0.0396  -0.9431  -0.9325   \n",
            "24997   0.0040   0.3919  -0.5862  -3.6803   0.0623   0.0609  -1.3597  -1.0174   \n",
            "24998  -0.0706   0.1483  -1.7092  -3.3583   0.5512  -0.0445  -0.3181  -0.5851   \n",
            "24999   0.0350  -0.4805  -5.2177  -3.1972   0.3027   0.0552  -1.8998  -0.3642   \n",
            "\n",
            "       ALE-342  ALE-344  ...  ALE-349  ALE-352  ALE-353  ALE-356  ALE-404  \\\n",
            "0      -3.2763  -0.1224  ...   0.1469  -6.1004  -1.1157  -5.8339  -0.1173   \n",
            "1      -3.3493  -0.5414  ...  -0.3591  -6.2383   0.7201  -3.9480   0.1806   \n",
            "2      -2.2755  -0.4259  ...  -0.3050  -5.8541  -0.1550  -5.8192  -0.0532   \n",
            "3      -3.2283  -0.0941  ...   0.1663  -2.2100   0.4430  -6.0423  -0.0371   \n",
            "4      -4.2693  -0.5577  ...   0.3561  -3.5704  -0.7764  -5.3904  -0.2368   \n",
            "...        ...      ...  ...      ...      ...      ...      ...      ...   \n",
            "24995  -2.4056   0.0170  ...  -0.2132  -5.5036  -2.6854  -0.7809  -2.7025   \n",
            "24996  -2.5616  -0.2126  ...  -0.7620  -4.0544  -2.8040  -1.8507  -2.0507   \n",
            "24997  -2.5076  -0.1150  ...  -0.3612  -4.9625  -3.4742  -2.1789  -1.5844   \n",
            "24998  -2.5928   0.1567  ...  -0.0231  -3.8155  -2.8397  -1.0300  -1.9608   \n",
            "24999  -1.6534   0.0103  ...   0.5872  -4.4832  -5.4315  -1.8101  -1.9439   \n",
            "\n",
            "       ALE-407  ALE-408  ALE-411  ALE-426  ALE-430  \n",
            "0      -0.8523  -1.6347  -0.2158  -0.6446  -7.1139  \n",
            "1       0.7370  -1.2059  -2.2651  -0.3500  -2.1024  \n",
            "2      -2.0586  -1.7734  -3.5621  -0.1502  -0.0567  \n",
            "3      -1.1453  -1.5901  -2.7510  -0.6783  -0.7429  \n",
            "4      -0.9823  -2.4429  -2.4631  -0.4670  -2.0934  \n",
            "...        ...      ...      ...      ...      ...  \n",
            "24995  -0.0127  -6.7943  -5.3329  -1.2232   0.0962  \n",
            "24996  -4.0910  -5.0098  -3.7761  -0.6999  -0.0095  \n",
            "24997  -3.3994  -5.1945  -5.2234  -1.2407   0.0001  \n",
            "24998   0.1430  -6.6716  -5.3263  -0.6424  -0.0042  \n",
            "24999   0.9361  -5.4959 -10.1763  -0.3030   0.0731  \n",
            "\n",
            "[25000 rows x 21 columns]\n",
            "(25000, 21)\n",
            "0        12.043091\n",
            "1        11.692589\n",
            "2        12.135270\n",
            "3        11.634892\n",
            "4        11.799102\n",
            "           ...    \n",
            "24995     6.672321\n",
            "24996     7.345094\n",
            "24997     7.484704\n",
            "24998     7.592419\n",
            "24999     5.922266\n",
            "Name: Distance, Length: 25000, dtype: float64\n",
            "(25000,)\n"
          ]
        }
      ],
      "source": [
        "# test regression dataset\n",
        "from sklearn.datasets import make_regression\n",
        "from sklearn import preprocessing\n",
        "# define dataset\n",
        "# xa = data.values #returns a numpy array\n",
        "# min_max_scaler = preprocessing.MinMaxScaler()\n",
        "# x_scaled = min_max_scaler.fit_transform(xa)\n",
        "# data = pd.DataFrame(x_scaled, columns=data.columns)\n",
        "# print(data)\n",
        "data1=data.drop('Distance', axis=1)\n",
        "data1=data1.drop('Rotation', axis=1)\n",
        "data1=data1.drop('Delta1', axis=1)\n",
        "data1=data1.drop('Delta2', axis=1)\n",
        "# data1=data1.drop('ALE-398', axis=1)\n",
        "x=data1.drop('Delta3', axis=1)\n",
        "y=data['Distance']\n",
        "# summarize the dataset\n",
        "print(x)\n",
        "print(x.shape)\n",
        "print(y)\n",
        "print(y.shape)\n",
        "# print(x['ALE-403']) #trp6.48\n",
        "# print(x['ALE-356']) #ser5.46\n",
        "# print(x['ALE-400']) #phe6.44\n",
        "# print(x['ALE-420']) #leuecl3\n",
        "# print(x['ALE-259']) #"
      ]
    },
    {
      "cell_type": "code",
      "execution_count": 16,
      "metadata": {
        "colab": {
          "base_uri": "https://localhost:8080/"
        },
        "id": "RGunVtv8GJ8T",
        "outputId": "782c21cf-8411-41ad-a86c-a3810234fc71"
      },
      "outputs": [
        {
          "output_type": "stream",
          "name": "stdout",
          "text": [
            "0       -0.1173\n",
            "1        0.1806\n",
            "2       -0.0532\n",
            "3       -0.0371\n",
            "4       -0.2368\n",
            "          ...  \n",
            "24995   -2.7025\n",
            "24996   -2.0507\n",
            "24997   -1.5844\n",
            "24998   -1.9608\n",
            "24999   -1.9439\n",
            "Name: ALE-404, Length: 25000, dtype: float64\n"
          ]
        }
      ],
      "source": [
        "print(x['ALE-404']) #trp6.48"
      ]
    },
    {
      "cell_type": "code",
      "execution_count": 17,
      "metadata": {
        "colab": {
          "base_uri": "https://localhost:8080/"
        },
        "id": "6ayS5E1dGMQe",
        "outputId": "65e9619a-a35e-45bf-df10-4198c4d62a7a"
      },
      "outputs": [
        {
          "output_type": "stream",
          "name": "stdout",
          "text": [
            "0       -5.8339\n",
            "1       -3.9480\n",
            "2       -5.8192\n",
            "3       -6.0423\n",
            "4       -5.3904\n",
            "          ...  \n",
            "24995   -0.7809\n",
            "24996   -1.8507\n",
            "24997   -2.1789\n",
            "24998   -1.0300\n",
            "24999   -1.8101\n",
            "Name: ALE-356, Length: 25000, dtype: float64\n"
          ]
        }
      ],
      "source": [
        "print(x['ALE-356']) #ser5.46"
      ]
    },
    {
      "cell_type": "code",
      "execution_count": 18,
      "metadata": {
        "colab": {
          "base_uri": "https://localhost:8080/"
        },
        "id": "1GjQmxr6H1AQ",
        "outputId": "5b306005-bf84-4465-ccc1-2c09ab930887"
      },
      "outputs": [
        {
          "output_type": "stream",
          "name": "stdout",
          "text": [
            "0       -7.1139\n",
            "1       -2.1024\n",
            "2       -0.0567\n",
            "3       -0.7429\n",
            "4       -2.0934\n",
            "          ...  \n",
            "24995    0.0962\n",
            "24996   -0.0095\n",
            "24997    0.0001\n",
            "24998   -0.0042\n",
            "24999    0.0731\n",
            "Name: ALE-430, Length: 25000, dtype: float64\n"
          ]
        }
      ],
      "source": [
        "print(x['ALE-430']) #asn7.39"
      ]
    },
    {
      "cell_type": "code",
      "execution_count": 19,
      "metadata": {
        "id": "STu4tANQja5X"
      },
      "outputs": [],
      "source": [
        "from sklearn.model_selection import train_test_split\n",
        "x_train, x_test, y_train, y_test = train_test_split(x, y, test_size = 0.1)"
      ]
    },
    {
      "cell_type": "code",
      "execution_count": 20,
      "metadata": {
        "colab": {
          "base_uri": "https://localhost:8080/",
          "height": 143
        },
        "id": "6kInMdwgHqUR",
        "outputId": "4a637f70-cd6b-4eef-bedf-dc4cb5365e78"
      },
      "outputs": [
        {
          "output_type": "execute_result",
          "data": {
            "text/plain": [
              "Empty DataFrame\n",
              "Columns: [ALE-258, ALE-259, ALE-262, ALE-263, ALE-265, ALE-266, ALE-267, ALE-313, ALE-342, ALE-344, ALE-348, ALE-349, ALE-352, ALE-353, ALE-356, ALE-404, ALE-407, ALE-408, ALE-411, ALE-426, ALE-430]\n",
              "Index: []\n",
              "\n",
              "[0 rows x 21 columns]"
            ],
            "text/html": [
              "\n",
              "  <div id=\"df-85789730-7e40-4384-ac50-4ee35661d341\">\n",
              "    <div class=\"colab-df-container\">\n",
              "      <div>\n",
              "<style scoped>\n",
              "    .dataframe tbody tr th:only-of-type {\n",
              "        vertical-align: middle;\n",
              "    }\n",
              "\n",
              "    .dataframe tbody tr th {\n",
              "        vertical-align: top;\n",
              "    }\n",
              "\n",
              "    .dataframe thead th {\n",
              "        text-align: right;\n",
              "    }\n",
              "</style>\n",
              "<table border=\"1\" class=\"dataframe\">\n",
              "  <thead>\n",
              "    <tr style=\"text-align: right;\">\n",
              "      <th></th>\n",
              "      <th>ALE-258</th>\n",
              "      <th>ALE-259</th>\n",
              "      <th>ALE-262</th>\n",
              "      <th>ALE-263</th>\n",
              "      <th>ALE-265</th>\n",
              "      <th>ALE-266</th>\n",
              "      <th>ALE-267</th>\n",
              "      <th>ALE-313</th>\n",
              "      <th>ALE-342</th>\n",
              "      <th>ALE-344</th>\n",
              "      <th>...</th>\n",
              "      <th>ALE-349</th>\n",
              "      <th>ALE-352</th>\n",
              "      <th>ALE-353</th>\n",
              "      <th>ALE-356</th>\n",
              "      <th>ALE-404</th>\n",
              "      <th>ALE-407</th>\n",
              "      <th>ALE-408</th>\n",
              "      <th>ALE-411</th>\n",
              "      <th>ALE-426</th>\n",
              "      <th>ALE-430</th>\n",
              "    </tr>\n",
              "  </thead>\n",
              "  <tbody>\n",
              "  </tbody>\n",
              "</table>\n",
              "<p>0 rows × 21 columns</p>\n",
              "</div>\n",
              "      <button class=\"colab-df-convert\" onclick=\"convertToInteractive('df-85789730-7e40-4384-ac50-4ee35661d341')\"\n",
              "              title=\"Convert this dataframe to an interactive table.\"\n",
              "              style=\"display:none;\">\n",
              "        \n",
              "  <svg xmlns=\"http://www.w3.org/2000/svg\" height=\"24px\"viewBox=\"0 0 24 24\"\n",
              "       width=\"24px\">\n",
              "    <path d=\"M0 0h24v24H0V0z\" fill=\"none\"/>\n",
              "    <path d=\"M18.56 5.44l.94 2.06.94-2.06 2.06-.94-2.06-.94-.94-2.06-.94 2.06-2.06.94zm-11 1L8.5 8.5l.94-2.06 2.06-.94-2.06-.94L8.5 2.5l-.94 2.06-2.06.94zm10 10l.94 2.06.94-2.06 2.06-.94-2.06-.94-.94-2.06-.94 2.06-2.06.94z\"/><path d=\"M17.41 7.96l-1.37-1.37c-.4-.4-.92-.59-1.43-.59-.52 0-1.04.2-1.43.59L10.3 9.45l-7.72 7.72c-.78.78-.78 2.05 0 2.83L4 21.41c.39.39.9.59 1.41.59.51 0 1.02-.2 1.41-.59l7.78-7.78 2.81-2.81c.8-.78.8-2.07 0-2.86zM5.41 20L4 18.59l7.72-7.72 1.47 1.35L5.41 20z\"/>\n",
              "  </svg>\n",
              "      </button>\n",
              "      \n",
              "  <style>\n",
              "    .colab-df-container {\n",
              "      display:flex;\n",
              "      flex-wrap:wrap;\n",
              "      gap: 12px;\n",
              "    }\n",
              "\n",
              "    .colab-df-convert {\n",
              "      background-color: #E8F0FE;\n",
              "      border: none;\n",
              "      border-radius: 50%;\n",
              "      cursor: pointer;\n",
              "      display: none;\n",
              "      fill: #1967D2;\n",
              "      height: 32px;\n",
              "      padding: 0 0 0 0;\n",
              "      width: 32px;\n",
              "    }\n",
              "\n",
              "    .colab-df-convert:hover {\n",
              "      background-color: #E2EBFA;\n",
              "      box-shadow: 0px 1px 2px rgba(60, 64, 67, 0.3), 0px 1px 3px 1px rgba(60, 64, 67, 0.15);\n",
              "      fill: #174EA6;\n",
              "    }\n",
              "\n",
              "    [theme=dark] .colab-df-convert {\n",
              "      background-color: #3B4455;\n",
              "      fill: #D2E3FC;\n",
              "    }\n",
              "\n",
              "    [theme=dark] .colab-df-convert:hover {\n",
              "      background-color: #434B5C;\n",
              "      box-shadow: 0px 1px 3px 1px rgba(0, 0, 0, 0.15);\n",
              "      filter: drop-shadow(0px 1px 2px rgba(0, 0, 0, 0.3));\n",
              "      fill: #FFFFFF;\n",
              "    }\n",
              "  </style>\n",
              "\n",
              "      <script>\n",
              "        const buttonEl =\n",
              "          document.querySelector('#df-85789730-7e40-4384-ac50-4ee35661d341 button.colab-df-convert');\n",
              "        buttonEl.style.display =\n",
              "          google.colab.kernel.accessAllowed ? 'block' : 'none';\n",
              "\n",
              "        async function convertToInteractive(key) {\n",
              "          const element = document.querySelector('#df-85789730-7e40-4384-ac50-4ee35661d341');\n",
              "          const dataTable =\n",
              "            await google.colab.kernel.invokeFunction('convertToInteractive',\n",
              "                                                     [key], {});\n",
              "          if (!dataTable) return;\n",
              "\n",
              "          const docLinkHtml = 'Like what you see? Visit the ' +\n",
              "            '<a target=\"_blank\" href=https://colab.research.google.com/notebooks/data_table.ipynb>data table notebook</a>'\n",
              "            + ' to learn more about interactive tables.';\n",
              "          element.innerHTML = '';\n",
              "          dataTable['output_type'] = 'display_data';\n",
              "          await google.colab.output.renderOutput(dataTable, element);\n",
              "          const docLink = document.createElement('div');\n",
              "          docLink.innerHTML = docLinkHtml;\n",
              "          element.appendChild(docLink);\n",
              "        }\n",
              "      </script>\n",
              "    </div>\n",
              "  </div>\n",
              "  "
            ]
          },
          "metadata": {},
          "execution_count": 20
        }
      ],
      "source": [
        "x[x.isna().any(axis=1)]"
      ]
    },
    {
      "cell_type": "markdown",
      "metadata": {
        "id": "N7CW-tyRkIex"
      },
      "source": [
        "###Linear Regression"
      ]
    },
    {
      "cell_type": "code",
      "execution_count": 21,
      "metadata": {
        "colab": {
          "base_uri": "https://localhost:8080/",
          "height": 1000
        },
        "id": "S5dvy81CkF-U",
        "outputId": "e50f3720-45fa-42d9-ab8f-2bed19d0fa08"
      },
      "outputs": [
        {
          "output_type": "stream",
          "name": "stderr",
          "text": [
            "<ipython-input-21-5eb5e261ab53>:29: FutureWarning: The frame.append method is deprecated and will be removed from pandas in a future version. Use pandas.concat instead.\n",
            "  importance_scores = importance_scores.append(pd.DataFrame({\n",
            "<ipython-input-21-5eb5e261ab53>:29: FutureWarning: The frame.append method is deprecated and will be removed from pandas in a future version. Use pandas.concat instead.\n",
            "  importance_scores = importance_scores.append(pd.DataFrame({\n",
            "<ipython-input-21-5eb5e261ab53>:29: FutureWarning: The frame.append method is deprecated and will be removed from pandas in a future version. Use pandas.concat instead.\n",
            "  importance_scores = importance_scores.append(pd.DataFrame({\n",
            "<ipython-input-21-5eb5e261ab53>:29: FutureWarning: The frame.append method is deprecated and will be removed from pandas in a future version. Use pandas.concat instead.\n",
            "  importance_scores = importance_scores.append(pd.DataFrame({\n",
            "<ipython-input-21-5eb5e261ab53>:29: FutureWarning: The frame.append method is deprecated and will be removed from pandas in a future version. Use pandas.concat instead.\n",
            "  importance_scores = importance_scores.append(pd.DataFrame({\n",
            "<ipython-input-21-5eb5e261ab53>:29: FutureWarning: The frame.append method is deprecated and will be removed from pandas in a future version. Use pandas.concat instead.\n",
            "  importance_scores = importance_scores.append(pd.DataFrame({\n",
            "<ipython-input-21-5eb5e261ab53>:29: FutureWarning: The frame.append method is deprecated and will be removed from pandas in a future version. Use pandas.concat instead.\n",
            "  importance_scores = importance_scores.append(pd.DataFrame({\n",
            "<ipython-input-21-5eb5e261ab53>:29: FutureWarning: The frame.append method is deprecated and will be removed from pandas in a future version. Use pandas.concat instead.\n",
            "  importance_scores = importance_scores.append(pd.DataFrame({\n",
            "<ipython-input-21-5eb5e261ab53>:29: FutureWarning: The frame.append method is deprecated and will be removed from pandas in a future version. Use pandas.concat instead.\n",
            "  importance_scores = importance_scores.append(pd.DataFrame({\n",
            "<ipython-input-21-5eb5e261ab53>:29: FutureWarning: The frame.append method is deprecated and will be removed from pandas in a future version. Use pandas.concat instead.\n",
            "  importance_scores = importance_scores.append(pd.DataFrame({\n"
          ]
        },
        {
          "output_type": "stream",
          "name": "stdout",
          "text": [
            "    feature  importance\n",
            "17  ALE-408    0.618623\n",
            "15  ALE-404    0.448216\n",
            "10  ALE-348    0.171748\n",
            "16  ALE-407    0.159626\n",
            "3   ALE-263    0.102786\n",
            "20  ALE-430    0.097607\n",
            "18  ALE-411    0.093771\n",
            "1   ALE-259    0.088037\n",
            "19  ALE-426    0.086239\n",
            "13  ALE-353    0.045244\n"
          ]
        },
        {
          "output_type": "display_data",
          "data": {
            "text/plain": [
              "<Figure size 640x480 with 1 Axes>"
            ],
            "image/png": "[encoded data removed]"
          },
          "metadata": {}
        }
      ],
      "source": [
        "from sklearn.linear_model import LinearRegression\n",
        "from sklearn.model_selection import KFold\n",
        "from sklearn.metrics import mean_squared_error\n",
        "import pandas as pd\n",
        "import numpy as np\n",
        "import matplotlib.pyplot as plt\n",
        "\n",
        "# define the model\n",
        "model = LinearRegression()\n",
        "\n",
        "# define 10-fold cross-validation\n",
        "cv = KFold(n_splits=10, random_state=1, shuffle=True)\n",
        "\n",
        "# initialize feature importance scores\n",
        "importance_scores = pd.DataFrame(columns=['feature', 'importance'])\n",
        "\n",
        "# perform 10-fold cross-validation\n",
        "for train_index, test_index in cv.split(x):\n",
        "    # get training and testing data\n",
        "    x_train, x_test = x.iloc[train_index], x.iloc[test_index]\n",
        "    y_train, y_test = y.iloc[train_index], y.iloc[test_index]\n",
        "\n",
        "    # fit the model on training data\n",
        "    model.fit(x_train, y_train)\n",
        "\n",
        "    # get feature importance scores\n",
        "    importance = model.coef_\n",
        "    # append feature importance scores to dataframe\n",
        "    importance_scores = importance_scores.append(pd.DataFrame({\n",
        "        'feature': x_train.columns,\n",
        "        'importance': importance\n",
        "    }), ignore_index=True)\n",
        "\n",
        "# calculate average feature importance scores across 10 models\n",
        "avg_importance_scores = importance_scores.groupby('feature')['importance'].mean().reset_index()\n",
        "\n",
        "# sort feature importance scores in descending order\n",
        "avg_importance_scores = avg_importance_scores.sort_values(by='importance', ascending=False)\n",
        "\n",
        "lr_scores = avg_importance_scores\n",
        "# print feature importance scores\n",
        "print(avg_importance_scores[:10])\n",
        "\n",
        "# plot feature importance scores\n",
        "plt.bar(avg_importance_scores['feature'], avg_importance_scores['importance'])\n",
        "plt.xticks(rotation=90)\n",
        "plt.show()\n"
      ]
    },
    {
      "cell_type": "markdown",
      "metadata": {
        "id": "A--qFZalUb4j"
      },
      "source": [
        "## Decision Tree Cart"
      ]
    },
    {
      "cell_type": "code",
      "execution_count": 22,
      "metadata": {
        "colab": {
          "base_uri": "https://localhost:8080/",
          "height": 1000
        },
        "id": "S5K5VtfOUqxA",
        "outputId": "6044f670-57c1-4e49-d33a-35fe95c5068c"
      },
      "outputs": [
        {
          "output_type": "stream",
          "name": "stderr",
          "text": [
            "<ipython-input-22-95d5f3516424>:30: FutureWarning: The frame.append method is deprecated and will be removed from pandas in a future version. Use pandas.concat instead.\n",
            "  importance_scores = importance_scores.append(pd.DataFrame({\n",
            "<ipython-input-22-95d5f3516424>:30: FutureWarning: The frame.append method is deprecated and will be removed from pandas in a future version. Use pandas.concat instead.\n",
            "  importance_scores = importance_scores.append(pd.DataFrame({\n",
            "<ipython-input-22-95d5f3516424>:30: FutureWarning: The frame.append method is deprecated and will be removed from pandas in a future version. Use pandas.concat instead.\n",
            "  importance_scores = importance_scores.append(pd.DataFrame({\n",
            "<ipython-input-22-95d5f3516424>:30: FutureWarning: The frame.append method is deprecated and will be removed from pandas in a future version. Use pandas.concat instead.\n",
            "  importance_scores = importance_scores.append(pd.DataFrame({\n",
            "<ipython-input-22-95d5f3516424>:30: FutureWarning: The frame.append method is deprecated and will be removed from pandas in a future version. Use pandas.concat instead.\n",
            "  importance_scores = importance_scores.append(pd.DataFrame({\n",
            "<ipython-input-22-95d5f3516424>:30: FutureWarning: The frame.append method is deprecated and will be removed from pandas in a future version. Use pandas.concat instead.\n",
            "  importance_scores = importance_scores.append(pd.DataFrame({\n",
            "<ipython-input-22-95d5f3516424>:30: FutureWarning: The frame.append method is deprecated and will be removed from pandas in a future version. Use pandas.concat instead.\n",
            "  importance_scores = importance_scores.append(pd.DataFrame({\n",
            "<ipython-input-22-95d5f3516424>:30: FutureWarning: The frame.append method is deprecated and will be removed from pandas in a future version. Use pandas.concat instead.\n",
            "  importance_scores = importance_scores.append(pd.DataFrame({\n",
            "<ipython-input-22-95d5f3516424>:30: FutureWarning: The frame.append method is deprecated and will be removed from pandas in a future version. Use pandas.concat instead.\n",
            "  importance_scores = importance_scores.append(pd.DataFrame({\n",
            "<ipython-input-22-95d5f3516424>:30: FutureWarning: The frame.append method is deprecated and will be removed from pandas in a future version. Use pandas.concat instead.\n",
            "  importance_scores = importance_scores.append(pd.DataFrame({\n"
          ]
        },
        {
          "output_type": "stream",
          "name": "stdout",
          "text": [
            "    feature  importance\n",
            "17  ALE-408    0.417826\n",
            "15  ALE-404    0.143809\n",
            "1   ALE-259    0.095101\n",
            "2   ALE-262    0.081414\n",
            "20  ALE-430    0.040019\n",
            "14  ALE-356    0.031304\n",
            "16  ALE-407    0.025526\n",
            "12  ALE-352    0.025048\n",
            "0   ALE-258    0.023590\n",
            "8   ALE-342    0.020288\n"
          ]
        },
        {
          "output_type": "display_data",
          "data": {
            "text/plain": [
              "<Figure size 640x480 with 1 Axes>"
            ],
            "image/png": "[encoded data removed]"
          },
          "metadata": {}
        }
      ],
      "source": [
        "from sklearn.tree import DecisionTreeRegressor\n",
        "from sklearn.model_selection import KFold\n",
        "from sklearn.metrics import mean_squared_error\n",
        "import pandas as pd\n",
        "import numpy as np\n",
        "import matplotlib.pyplot as plt\n",
        "\n",
        "# define the model\n",
        "model = DecisionTreeRegressor()\n",
        "\n",
        "# define 10-fold cross-validation\n",
        "cv = KFold(n_splits=10, random_state=1, shuffle=True)\n",
        "\n",
        "# initialize feature importance scores\n",
        "importance_scores = pd.DataFrame(columns=['feature', 'importance'])\n",
        "\n",
        "# perform 10-fold cross-validation\n",
        "for train_index, test_index in cv.split(x):\n",
        "    # get training and testing data\n",
        "    x_train, x_test = x.iloc[train_index], x.iloc[test_index]\n",
        "    y_train, y_test = y.iloc[train_index], y.iloc[test_index]\n",
        "\n",
        "    # fit the model on training data\n",
        "    model.fit(x_train, y_train)\n",
        "\n",
        "    # get feature importance scores\n",
        "    importance = model.feature_importances_\n",
        "\n",
        "    # append feature importance scores to dataframe\n",
        "    importance_scores = importance_scores.append(pd.DataFrame({\n",
        "        'feature': x_train.columns,\n",
        "        'importance': importance\n",
        "    }), ignore_index=True)\n",
        "\n",
        "# calculate average feature importance scores across 10 models\n",
        "avg_importance_scores = importance_scores.groupby('feature')['importance'].mean().reset_index()\n",
        "\n",
        "# sort feature importance scores in descending order\n",
        "avg_importance_scores = avg_importance_scores.sort_values(by='importance', ascending=False)\n",
        "ds_scores = avg_importance_scores\n",
        "# print feature importance scores\n",
        "print(avg_importance_scores[:10])\n",
        "\n",
        "# plot feature importance scores\n",
        "plt.bar(avg_importance_scores['feature'], avg_importance_scores['importance'])\n",
        "plt.xticks(rotation=90)\n",
        "plt.show()\n"
      ]
    },
    {
      "cell_type": "markdown",
      "metadata": {
        "id": "3xYt0eVSgLyj"
      },
      "source": [
        "###Random Forest"
      ]
    },
    {
      "cell_type": "code",
      "execution_count": 23,
      "metadata": {
        "colab": {
          "base_uri": "https://localhost:8080/",
          "height": 1000
        },
        "id": "t5tCaTSKYhnP",
        "outputId": "2e48ec6c-53d9-4c4e-b07b-2076c4c30219"
      },
      "outputs": [
        {
          "output_type": "stream",
          "name": "stderr",
          "text": [
            "<ipython-input-23-871a08953549>:25: FutureWarning: The frame.append method is deprecated and will be removed from pandas in a future version. Use pandas.concat instead.\n",
            "  importance_scores = importance_scores.append(pd.DataFrame({\n",
            "<ipython-input-23-871a08953549>:25: FutureWarning: The frame.append method is deprecated and will be removed from pandas in a future version. Use pandas.concat instead.\n",
            "  importance_scores = importance_scores.append(pd.DataFrame({\n",
            "<ipython-input-23-871a08953549>:25: FutureWarning: The frame.append method is deprecated and will be removed from pandas in a future version. Use pandas.concat instead.\n",
            "  importance_scores = importance_scores.append(pd.DataFrame({\n",
            "<ipython-input-23-871a08953549>:25: FutureWarning: The frame.append method is deprecated and will be removed from pandas in a future version. Use pandas.concat instead.\n",
            "  importance_scores = importance_scores.append(pd.DataFrame({\n",
            "<ipython-input-23-871a08953549>:25: FutureWarning: The frame.append method is deprecated and will be removed from pandas in a future version. Use pandas.concat instead.\n",
            "  importance_scores = importance_scores.append(pd.DataFrame({\n",
            "<ipython-input-23-871a08953549>:25: FutureWarning: The frame.append method is deprecated and will be removed from pandas in a future version. Use pandas.concat instead.\n",
            "  importance_scores = importance_scores.append(pd.DataFrame({\n",
            "<ipython-input-23-871a08953549>:25: FutureWarning: The frame.append method is deprecated and will be removed from pandas in a future version. Use pandas.concat instead.\n",
            "  importance_scores = importance_scores.append(pd.DataFrame({\n",
            "<ipython-input-23-871a08953549>:25: FutureWarning: The frame.append method is deprecated and will be removed from pandas in a future version. Use pandas.concat instead.\n",
            "  importance_scores = importance_scores.append(pd.DataFrame({\n",
            "<ipython-input-23-871a08953549>:25: FutureWarning: The frame.append method is deprecated and will be removed from pandas in a future version. Use pandas.concat instead.\n",
            "  importance_scores = importance_scores.append(pd.DataFrame({\n",
            "<ipython-input-23-871a08953549>:25: FutureWarning: The frame.append method is deprecated and will be removed from pandas in a future version. Use pandas.concat instead.\n",
            "  importance_scores = importance_scores.append(pd.DataFrame({\n"
          ]
        },
        {
          "output_type": "stream",
          "name": "stdout",
          "text": [
            "    feature  importance\n",
            "17  ALE-408    0.418529\n",
            "15  ALE-404    0.129332\n",
            "1   ALE-259    0.085467\n",
            "2   ALE-262    0.069948\n",
            "20  ALE-430    0.059348\n",
            "14  ALE-356    0.036119\n",
            "0   ALE-258    0.029745\n",
            "16  ALE-407    0.028562\n",
            "8   ALE-342    0.022215\n",
            "12  ALE-352    0.020428\n"
          ]
        },
        {
          "output_type": "display_data",
          "data": {
            "text/plain": [
              "<Figure size 640x480 with 1 Axes>"
            ],
            "image/png": "[encoded data removed]"
          },
          "metadata": {}
        }
      ],
      "source": [
        "from sklearn.ensemble import RandomForestRegressor\n",
        "\n",
        "# define the model\n",
        "model = RandomForestRegressor()\n",
        "\n",
        "# define 10-fold cross-validation\n",
        "cv = KFold(n_splits=10, random_state=1, shuffle=True)\n",
        "\n",
        "# initialize feature importance scores\n",
        "importance_scores = pd.DataFrame(columns=['feature', 'importance'])\n",
        "\n",
        "# perform 10-fold cross-validation\n",
        "for train_index, test_index in cv.split(x):\n",
        "    # get training and testing data\n",
        "    x_train, x_test = x.iloc[train_index], x.iloc[test_index]\n",
        "    y_train, y_test = y.iloc[train_index], y.iloc[test_index]\n",
        "\n",
        "    # fit the model on training data\n",
        "    model.fit(x_train, y_train)\n",
        "\n",
        "    # get feature importance scores\n",
        "    importance = model.feature_importances_\n",
        "\n",
        "    # append feature importance scores to dataframe\n",
        "    importance_scores = importance_scores.append(pd.DataFrame({\n",
        "        'feature': x_train.columns,\n",
        "        'importance': importance\n",
        "    }), ignore_index=True)\n",
        "\n",
        "# calculate average feature importance scores across 10 models\n",
        "avg_importance_scores = importance_scores.groupby('feature')['importance'].mean().reset_index()\n",
        "\n",
        "# sort feature importance scores in descending order\n",
        "avg_importance_scores = avg_importance_scores.sort_values(by='importance', ascending=False)\n",
        "rf_scores = avg_importance_scores\n",
        "# print feature importance scores\n",
        "print(avg_importance_scores[:10])\n",
        "\n",
        "# plot feature importance scores\n",
        "plt.bar(avg_importance_scores['feature'], avg_importance_scores['importance'])\n",
        "plt.xticks(rotation=90)\n",
        "plt.show()\n"
      ]
    },
    {
      "cell_type": "markdown",
      "metadata": {
        "id": "DxXxS-ctgr1f"
      },
      "source": [
        "###XGBOOST"
      ]
    },
    {
      "cell_type": "code",
      "execution_count": 24,
      "metadata": {
        "colab": {
          "base_uri": "https://localhost:8080/"
        },
        "id": "LJz09tfmgxwl",
        "outputId": "b823a076-57bd-46cb-cabe-903a1126285c"
      },
      "outputs": [
        {
          "output_type": "stream",
          "name": "stderr",
          "text": [
            "<ipython-input-24-165469a00c4e>:25: FutureWarning: The frame.append method is deprecated and will be removed from pandas in a future version. Use pandas.concat instead.\n",
            "  importance_scores = importance_scores.append(pd.DataFrame({\n",
            "<ipython-input-24-165469a00c4e>:25: FutureWarning: The frame.append method is deprecated and will be removed from pandas in a future version. Use pandas.concat instead.\n",
            "  importance_scores = importance_scores.append(pd.DataFrame({\n",
            "<ipython-input-24-165469a00c4e>:25: FutureWarning: The frame.append method is deprecated and will be removed from pandas in a future version. Use pandas.concat instead.\n",
            "  importance_scores = importance_scores.append(pd.DataFrame({\n",
            "<ipython-input-24-165469a00c4e>:25: FutureWarning: The frame.append method is deprecated and will be removed from pandas in a future version. Use pandas.concat instead.\n",
            "  importance_scores = importance_scores.append(pd.DataFrame({\n",
            "<ipython-input-24-165469a00c4e>:25: FutureWarning: The frame.append method is deprecated and will be removed from pandas in a future version. Use pandas.concat instead.\n",
            "  importance_scores = importance_scores.append(pd.DataFrame({\n",
            "<ipython-input-24-165469a00c4e>:25: FutureWarning: The frame.append method is deprecated and will be removed from pandas in a future version. Use pandas.concat instead.\n",
            "  importance_scores = importance_scores.append(pd.DataFrame({\n",
            "<ipython-input-24-165469a00c4e>:25: FutureWarning: The frame.append method is deprecated and will be removed from pandas in a future version. Use pandas.concat instead.\n",
            "  importance_scores = importance_scores.append(pd.DataFrame({\n",
            "<ipython-input-24-165469a00c4e>:25: FutureWarning: The frame.append method is deprecated and will be removed from pandas in a future version. Use pandas.concat instead.\n",
            "  importance_scores = importance_scores.append(pd.DataFrame({\n",
            "<ipython-input-24-165469a00c4e>:25: FutureWarning: The frame.append method is deprecated and will be removed from pandas in a future version. Use pandas.concat instead.\n",
            "  importance_scores = importance_scores.append(pd.DataFrame({\n",
            "<ipython-input-24-165469a00c4e>:25: FutureWarning: The frame.append method is deprecated and will be removed from pandas in a future version. Use pandas.concat instead.\n",
            "  importance_scores = importance_scores.append(pd.DataFrame({\n"
          ]
        },
        {
          "output_type": "stream",
          "name": "stdout",
          "text": [
            "    feature  importance\n",
            "17  ALE-408    0.442233\n",
            "20  ALE-430    0.092368\n",
            "15  ALE-404    0.091559\n",
            "1   ALE-259    0.060977\n",
            "2   ALE-262    0.056464\n",
            "14  ALE-356    0.043889\n",
            "16  ALE-407    0.040649\n",
            "11  ALE-349    0.026064\n",
            "8   ALE-342    0.026063\n",
            "12  ALE-352    0.021748\n"
          ]
        },
        {
          "output_type": "display_data",
          "data": {
            "text/plain": [
              "<Figure size 640x480 with 1 Axes>"
            ],
            "image/png": "[encoded data removed]"
          },
          "metadata": {}
        }
      ],
      "source": [
        "from xgboost.sklearn import XGBRegressor\n",
        "\n",
        "# define the model\n",
        "model = XGBRegressor()\n",
        "\n",
        "# define 10-fold cross-validation\n",
        "cv = KFold(n_splits=10, random_state=1, shuffle=True)\n",
        "\n",
        "# initialize feature importance scores\n",
        "importance_scores = pd.DataFrame(columns=['feature', 'importance'])\n",
        "\n",
        "# perform 10-fold cross-validation\n",
        "for train_index, test_index in cv.split(x):\n",
        "    # get training and testing data\n",
        "    x_train, x_test = x.iloc[train_index], x.iloc[test_index]\n",
        "    y_train, y_test = y.iloc[train_index], y.iloc[test_index]\n",
        "\n",
        "    # fit the model on training data\n",
        "    model.fit(x_train, y_train)\n",
        "\n",
        "    # get feature importance scores\n",
        "    importance = model.feature_importances_\n",
        "\n",
        "    # append feature importance scores to dataframe\n",
        "    importance_scores = importance_scores.append(pd.DataFrame({\n",
        "        'feature': x_train.columns,\n",
        "        'importance': importance\n",
        "    }), ignore_index=True)\n",
        "\n",
        "# calculate average feature importance scores across 10 models\n",
        "avg_importance_scores = importance_scores.groupby('feature')['importance'].mean().reset_index()\n",
        "\n",
        "# sort feature importance scores in descending order\n",
        "avg_importance_scores = avg_importance_scores.sort_values(by='importance', ascending=False)\n",
        "xgb_scores = avg_importance_scores\n",
        "# print feature importance scores\n",
        "print(avg_importance_scores[:10])\n",
        "\n",
        "# plot feature importance scores\n",
        "plt.bar(avg_importance_scores['feature'], avg_importance_scores['importance'])\n",
        "plt.xticks(rotation=90)\n",
        "plt.show()\n"
      ]
    },
    {
      "cell_type": "markdown",
      "metadata": {
        "id": "eFYCbbHOkh3w"
      },
      "source": [
        "###KNeighbours"
      ]
    },
    {
      "cell_type": "code",
      "execution_count": null,
      "metadata": {
        "id": "vFTWr_xdklIf"
      },
      "outputs": [],
      "source": [
        "from sklearn.neighbors import KNeighborsRegressor\n",
        "from sklearn.inspection import permutation_importance\n",
        "import numpy as np\n",
        "\n",
        "# define the model\n",
        "model = KNeighborsRegressor()\n",
        "\n",
        "# define 10-fold cross-validation\n",
        "cv = KFold(n_splits=10, random_state=1, shuffle=True)\n",
        "\n",
        "# initialize feature importance scores\n",
        "importance_scores = pd.DataFrame(columns=['feature', 'importance'])\n",
        "\n",
        "# perform 10-fold cross-validation\n",
        "for train_index, test_index in cv.split(x):\n",
        "    # get training and testing data\n",
        "    x_train, x_test = x.iloc[train_index], x.iloc[test_index]\n",
        "    y_train, y_test = y.iloc[train_index], y.iloc[test_index]\n",
        "\n",
        "    # fit the model on training data\n",
        "    model.fit(x_train, y_train)\n",
        "\n",
        "    # get feature importance scores using permutation importance\n",
        "    result = permutation_importance(model, x_test, y_test, n_repeats=10, random_state=1)\n",
        "    importance = result.importances_mean\n",
        "\n",
        "    # append feature importance scores to dataframe\n",
        "    importance_scores = importance_scores.append(pd.DataFrame({\n",
        "        'feature': x_train.columns,\n",
        "        'importance': importance\n",
        "    }), ignore_index=True)\n",
        "\n",
        "# calculate average feature importance scores across 10 models\n",
        "avg_importance_scores = importance_scores.groupby('feature')['importance'].mean().reset_index()\n",
        "\n",
        "# sort feature importance scores in descending order\n",
        "avg_importance_scores = avg_importance_scores.sort_values(by='importance', ascending=False)\n",
        "knn_scores = avg_importance_scores\n",
        "# print feature importance scores\n",
        "print(avg_importance_scores[:10])\n",
        "\n",
        "# plot feature importance scores\n",
        "plt.bar(avg_importance_scores['feature'], avg_importance_scores['importance'])\n",
        "plt.xticks(rotation=90)\n",
        "plt.show()\n"
      ]
    },
    {
      "cell_type": "code",
      "source": [
        "total_avg_score = lr_score + ds_score"
      ],
      "metadata": {
        "id": "bteaw_-tTUx5"
      },
      "execution_count": null,
      "outputs": []
    }
  ],
  "metadata": {
    "colab": {
      "provenance": [],
      "authorship_tag": "ABX9TyPB4UROenonexu2afWlHxF0",
      "include_colab_link": true
    },
    "gpuClass": "standard",
    "kernelspec": {
      "display_name": "Python 3",
      "name": "python3"
    },
    "language_info": {
      "name": "python"
    }
  },
  "nbformat": 4,
  "nbformat_minor": 0
}